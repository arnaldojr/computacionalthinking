{
 "cells": [
  {
   "cell_type": "markdown",
   "id": "bb24e60b",
   "metadata": {},
   "source": [
    "## Ixiii... Deu Erro! e agora?\n",
    "\n",
    "A Importância de Interpretar Erros no Python\n",
    "\n",
    "Programar é uma atividade desafiadora. Não importa o seu nível de conhecimento, inevitavelmente encontrará erros em seu código. \n",
    "\n",
    "No entanto, esses erros não são simplesmente obstáculos; eles são oportunidades valiosas de aprendizado. Interpretar erros em Python é uma habilidade crucial por várias razões:\n",
    "\n",
    "- ``Diagnóstico Rápido``: Compreender a mensagem de erro acelera o processo de identificação do problema. Em vez de vasculhar linhas e linhas de código, você pode ir direto ao ponto problemático.\n",
    "\n",
    "- ``Desenvolvimento de Solução``: Uma interpretação precisa do erro fornece insights sobre como corrigi-lo. Isso economiza tempo e reduz a ``frustração`` associada à tentativa e erro.\n",
    "\n",
    "- ``Aprendizado Profundo``: Cada erro é uma lição. Ao entender por que um erro ocorreu, você internaliza princípios fundamentais de programação e evita cometer o mesmo erro no futuro.\n",
    "\n",
    "- ``Confiança``: Encarar e superar erros fortalece sua resiliência e confiança como programador. Você se sente mais preparado para enfrentar desafios mais complexos, sabendo que pode decifrar e corrigir problemas que surgirem."
   ]
  },
  {
   "cell_type": "markdown",
   "id": "c7ef980d",
   "metadata": {},
   "source": [
    "## Tipos Comuns de Erros em Python\n",
    "\n",
    "1. ``Erros de Sintaxe (Syntax Errors)``: \n",
    "Estes são os erros mais básicos e geralmente mais fáceis de identificar. Eles ocorrem quando o Python não consegue entender seu código. Pode ser algo simples, como esquecer um ``: ``ao definir uma função ou não fechar um parêntese ``)``. A boa notícia é que o interpretador Python geralmente aponta exatamente onde o erro ocorreu, tornando mais fácil sua correção.\n",
    "\n",
    "2. ``Erros de Runtime (Runtime Errors)``:\n",
    "Estes erros são um pouco mais insidiosos, pois só aparecem quando você executa seu programa. Isso inclui coisas como tentar ``dividir por zero``, tentar acessar um arquivo que não existe, ou ``referenciar uma variável que não foi definida``. Ao contrário dos erros de sintaxe, os erros de runtime podem não ser tão diretos para identificar, pois podem depender de condições específicas dentro do programa.\n",
    "\n",
    "3. ``Erros Semânticos (Semantic Errors)``:\n",
    "Estes são os mais desafiadores de todos. Seu programa é executado sem erros visíveis e não retorna nenhuma mensagem de erro. No entanto, ele não faz o que você esperava. O desafio aqui é que o interpretador Python não pode ajudá-lo, pois tecnicamente, tudo está \"correto\". Estes erros exigem uma análise profunda da lógica e do fluxo do programa. A depuração passo a passo e a revisão do código são ferramentas valiosas para identificar onde as coisas deram errado."
   ]
  },
  {
   "cell_type": "markdown",
   "id": "3b838f7f",
   "metadata": {},
   "source": [
    "### Vamos praticar um pouco"
   ]
  },
  {
   "cell_type": "code",
   "execution_count": 30,
   "id": "dab46f23",
   "metadata": {},
   "outputs": [
    {
     "ename": "SyntaxError",
     "evalue": "EOL while scanning string literal (<ipython-input-30-15a41a3ccf62>, line 1)",
     "output_type": "error",
     "traceback": [
      "\u001b[1;36m  File \u001b[1;32m\"<ipython-input-30-15a41a3ccf62>\"\u001b[1;36m, line \u001b[1;32m1\u001b[0m\n\u001b[1;33m    print('Olá, mundo!\")\u001b[0m\n\u001b[1;37m                        ^\u001b[0m\n\u001b[1;31mSyntaxError\u001b[0m\u001b[1;31m:\u001b[0m EOL while scanning string literal\n"
     ]
    }
   ],
   "source": [
    "print('Olá, mundo!\")"
   ]
  },
  {
   "cell_type": "code",
   "execution_count": 46,
   "id": "6a438312",
   "metadata": {},
   "outputs": [],
   "source": [
    "# Solução\n"
   ]
  },
  {
   "cell_type": "code",
   "execution_count": 1,
   "id": "599f15d9",
   "metadata": {},
   "outputs": [
    {
     "ename": "SyntaxError",
     "evalue": "unexpected EOF while parsing (<ipython-input-1-da27efeb691f>, line 1)",
     "output_type": "error",
     "traceback": [
      "\u001b[1;36m  File \u001b[1;32m\"<ipython-input-1-da27efeb691f>\"\u001b[1;36m, line \u001b[1;32m1\u001b[0m\n\u001b[1;33m    print(\"Olá mundo\"\u001b[0m\n\u001b[1;37m                     ^\u001b[0m\n\u001b[1;31mSyntaxError\u001b[0m\u001b[1;31m:\u001b[0m unexpected EOF while parsing\n"
     ]
    }
   ],
   "source": [
    "print(\"Olá mundo\""
   ]
  },
  {
   "cell_type": "code",
   "execution_count": 46,
   "id": "2a1e42c0",
   "metadata": {},
   "outputs": [],
   "source": [
    "# Solução\n"
   ]
  },
  {
   "cell_type": "code",
   "execution_count": 37,
   "id": "797d2d87",
   "metadata": {},
   "outputs": [
    {
     "ename": "SyntaxError",
     "evalue": "invalid syntax (<ipython-input-37-c269be13d752>, line 1)",
     "output_type": "error",
     "traceback": [
      "\u001b[1;36m  File \u001b[1;32m\"<ipython-input-37-c269be13d752>\"\u001b[1;36m, line \u001b[1;32m1\u001b[0m\n\u001b[1;33m    7casas = 4\u001b[0m\n\u001b[1;37m     ^\u001b[0m\n\u001b[1;31mSyntaxError\u001b[0m\u001b[1;31m:\u001b[0m invalid syntax\n"
     ]
    }
   ],
   "source": [
    "7casas = 4"
   ]
  },
  {
   "cell_type": "code",
   "execution_count": 46,
   "id": "9db200b9",
   "metadata": {},
   "outputs": [],
   "source": [
    "# Solução\n"
   ]
  },
  {
   "cell_type": "code",
   "execution_count": 38,
   "id": "201e97b7",
   "metadata": {},
   "outputs": [
    {
     "ename": "SyntaxError",
     "evalue": "unexpected EOF while parsing (<ipython-input-38-a91b619cd92b>, line 1)",
     "output_type": "error",
     "traceback": [
      "\u001b[1;36m  File \u001b[1;32m\"<ipython-input-38-a91b619cd92b>\"\u001b[1;36m, line \u001b[1;32m1\u001b[0m\n\u001b[1;33m    str(input(\"digite o primeiro numero\")\u001b[0m\n\u001b[1;37m                                         ^\u001b[0m\n\u001b[1;31mSyntaxError\u001b[0m\u001b[1;31m:\u001b[0m unexpected EOF while parsing\n"
     ]
    }
   ],
   "source": [
    "str(input(\"digite o primeiro numero\")"
   ]
  },
  {
   "cell_type": "code",
   "execution_count": 46,
   "id": "776bd8a8",
   "metadata": {},
   "outputs": [],
   "source": [
    "# Solução\n"
   ]
  },
  {
   "cell_type": "code",
   "execution_count": 43,
   "id": "63f007d0",
   "metadata": {},
   "outputs": [
    {
     "name": "stdout",
     "output_type": "stream",
     "text": [
      "digite o primeiro numero3\n",
      "digite o segundo numero3\n",
      "33\n"
     ]
    }
   ],
   "source": [
    "a = str(input(\"digite o primeiro numero\")) # 3\n",
    "b = str(input(\"digite o segundo numero\")) # 3\n",
    "print(a+b)"
   ]
  },
  {
   "cell_type": "code",
   "execution_count": 35,
   "id": "dbe16236",
   "metadata": {},
   "outputs": [
    {
     "ename": "SyntaxError",
     "evalue": "invalid syntax (<ipython-input-35-af16dcebc17d>, line 1)",
     "output_type": "error",
     "traceback": [
      "\u001b[1;36m  File \u001b[1;32m\"<ipython-input-35-af16dcebc17d>\"\u001b[1;36m, line \u001b[1;32m1\u001b[0m\n\u001b[1;33m    def minha_funcao()\u001b[0m\n\u001b[1;37m                      ^\u001b[0m\n\u001b[1;31mSyntaxError\u001b[0m\u001b[1;31m:\u001b[0m invalid syntax\n"
     ]
    }
   ],
   "source": [
    "def minha_funcao()\n",
    "    return \"Olá, mundo!\""
   ]
  },
  {
   "cell_type": "code",
   "execution_count": 46,
   "id": "29d81ccd",
   "metadata": {},
   "outputs": [],
   "source": [
    "# Solução\n"
   ]
  },
  {
   "cell_type": "code",
   "execution_count": 36,
   "id": "f52918ac",
   "metadata": {},
   "outputs": [
    {
     "ename": "SyntaxError",
     "evalue": "invalid syntax (<ipython-input-36-274b47e24894>, line 2)",
     "output_type": "error",
     "traceback": [
      "\u001b[1;36m  File \u001b[1;32m\"<ipython-input-36-274b47e24894>\"\u001b[1;36m, line \u001b[1;32m2\u001b[0m\n\u001b[1;33m    if idade = 18:\u001b[0m\n\u001b[1;37m             ^\u001b[0m\n\u001b[1;31mSyntaxError\u001b[0m\u001b[1;31m:\u001b[0m invalid syntax\n"
     ]
    }
   ],
   "source": [
    "idade = 18\n",
    "if idade = 18:\n",
    "    print(\"Maior de idade\")"
   ]
  },
  {
   "cell_type": "code",
   "execution_count": 46,
   "id": "653bb8cc",
   "metadata": {},
   "outputs": [],
   "source": [
    "# Solução\n"
   ]
  },
  {
   "cell_type": "code",
   "execution_count": 45,
   "id": "96c82f81",
   "metadata": {},
   "outputs": [
    {
     "ename": "IndentationError",
     "evalue": "expected an indented block (<ipython-input-45-3ca3bbbc0d2b>, line 2)",
     "output_type": "error",
     "traceback": [
      "\u001b[1;36m  File \u001b[1;32m\"<ipython-input-45-3ca3bbbc0d2b>\"\u001b[1;36m, line \u001b[1;32m2\u001b[0m\n\u001b[1;33m    print(\"Olá!\")\u001b[0m\n\u001b[1;37m    ^\u001b[0m\n\u001b[1;31mIndentationError\u001b[0m\u001b[1;31m:\u001b[0m expected an indented block\n"
     ]
    }
   ],
   "source": [
    "def saudacao():\n",
    "print(\"Olá!\")"
   ]
  },
  {
   "cell_type": "code",
   "execution_count": 46,
   "id": "a91fdcc5",
   "metadata": {},
   "outputs": [],
   "source": [
    "# Solução\n"
   ]
  },
  {
   "cell_type": "code",
   "execution_count": 3,
   "id": "c8942ca4",
   "metadata": {},
   "outputs": [
    {
     "ename": "NameError",
     "evalue": "name 'Nome' is not defined",
     "output_type": "error",
     "traceback": [
      "\u001b[1;31m---------------------------------------------------------------------------\u001b[0m",
      "\u001b[1;31mNameError\u001b[0m                                 Traceback (most recent call last)",
      "\u001b[1;32m<ipython-input-3-0a0afa2a6809>\u001b[0m in \u001b[0;36m<module>\u001b[1;34m\u001b[0m\n\u001b[0;32m      1\u001b[0m \u001b[0mnome\u001b[0m \u001b[1;33m=\u001b[0m \u001b[1;34m\"João\"\u001b[0m\u001b[1;33m\u001b[0m\u001b[1;33m\u001b[0m\u001b[0m\n\u001b[1;32m----> 2\u001b[1;33m \u001b[0mprint\u001b[0m\u001b[1;33m(\u001b[0m\u001b[0mNome\u001b[0m\u001b[1;33m)\u001b[0m\u001b[1;33m\u001b[0m\u001b[1;33m\u001b[0m\u001b[0m\n\u001b[0m",
      "\u001b[1;31mNameError\u001b[0m: name 'Nome' is not defined"
     ]
    }
   ],
   "source": [
    "nome = \"João\"\n",
    "print(Nome)"
   ]
  },
  {
   "cell_type": "code",
   "execution_count": 46,
   "id": "1249648c",
   "metadata": {},
   "outputs": [],
   "source": [
    "# Solução\n"
   ]
  },
  {
   "cell_type": "code",
   "execution_count": 31,
   "id": "dd5fd6fb",
   "metadata": {},
   "outputs": [
    {
     "ename": "TypeError",
     "evalue": "can only concatenate str (not \"int\") to str",
     "output_type": "error",
     "traceback": [
      "\u001b[1;31m---------------------------------------------------------------------------\u001b[0m",
      "\u001b[1;31mTypeError\u001b[0m                                 Traceback (most recent call last)",
      "\u001b[1;32m<ipython-input-31-021ee738685d>\u001b[0m in \u001b[0;36m<module>\u001b[1;34m\u001b[0m\n\u001b[0;32m      1\u001b[0m \u001b[0midade\u001b[0m \u001b[1;33m=\u001b[0m \u001b[1;34m\"25\"\u001b[0m\u001b[1;33m\u001b[0m\u001b[1;33m\u001b[0m\u001b[0m\n\u001b[1;32m----> 2\u001b[1;33m \u001b[0mtotal\u001b[0m \u001b[1;33m=\u001b[0m \u001b[0midade\u001b[0m \u001b[1;33m+\u001b[0m \u001b[1;36m5\u001b[0m\u001b[1;33m\u001b[0m\u001b[1;33m\u001b[0m\u001b[0m\n\u001b[0m",
      "\u001b[1;31mTypeError\u001b[0m: can only concatenate str (not \"int\") to str"
     ]
    }
   ],
   "source": [
    "idade = \"25\"\n",
    "total = idade + 5"
   ]
  },
  {
   "cell_type": "code",
   "execution_count": 46,
   "id": "8222c80c",
   "metadata": {},
   "outputs": [],
   "source": [
    "# Solução\n"
   ]
  },
  {
   "cell_type": "code",
   "execution_count": 4,
   "id": "46cb421b",
   "metadata": {},
   "outputs": [
    {
     "ename": "ZeroDivisionError",
     "evalue": "division by zero",
     "output_type": "error",
     "traceback": [
      "\u001b[1;31m---------------------------------------------------------------------------\u001b[0m",
      "\u001b[1;31mZeroDivisionError\u001b[0m                         Traceback (most recent call last)",
      "\u001b[1;32m<ipython-input-4-605c3bec262d>\u001b[0m in \u001b[0;36m<module>\u001b[1;34m\u001b[0m\n\u001b[1;32m----> 1\u001b[1;33m \u001b[0mresultado\u001b[0m \u001b[1;33m=\u001b[0m \u001b[1;36m10\u001b[0m \u001b[1;33m/\u001b[0m \u001b[1;36m0\u001b[0m\u001b[1;33m\u001b[0m\u001b[1;33m\u001b[0m\u001b[0m\n\u001b[0m",
      "\u001b[1;31mZeroDivisionError\u001b[0m: division by zero"
     ]
    }
   ],
   "source": [
    "resultado = 10 / 0"
   ]
  },
  {
   "cell_type": "code",
   "execution_count": 48,
   "id": "481010d8",
   "metadata": {},
   "outputs": [],
   "source": [
    "# Solução\n"
   ]
  },
  {
   "cell_type": "code",
   "execution_count": 5,
   "id": "87a7859c",
   "metadata": {},
   "outputs": [
    {
     "ename": "ModuleNotFoundError",
     "evalue": "No module named 'mathh'",
     "output_type": "error",
     "traceback": [
      "\u001b[1;31m---------------------------------------------------------------------------\u001b[0m",
      "\u001b[1;31mModuleNotFoundError\u001b[0m                       Traceback (most recent call last)",
      "\u001b[1;32m<ipython-input-5-dafd3c5d3188>\u001b[0m in \u001b[0;36m<module>\u001b[1;34m\u001b[0m\n\u001b[1;32m----> 1\u001b[1;33m \u001b[1;32mimport\u001b[0m \u001b[0mmathh\u001b[0m\u001b[1;33m\u001b[0m\u001b[1;33m\u001b[0m\u001b[0m\n\u001b[0m",
      "\u001b[1;31mModuleNotFoundError\u001b[0m: No module named 'mathh'"
     ]
    }
   ],
   "source": [
    "import mathh"
   ]
  },
  {
   "cell_type": "code",
   "execution_count": 47,
   "id": "e30833cf",
   "metadata": {},
   "outputs": [],
   "source": [
    "# Solução\n"
   ]
  },
  {
   "cell_type": "code",
   "execution_count": 9,
   "id": "0fec1741",
   "metadata": {},
   "outputs": [
    {
     "ename": "TypeError",
     "evalue": "somar() missing 1 required positional argument: 'b'",
     "output_type": "error",
     "traceback": [
      "\u001b[1;31m---------------------------------------------------------------------------\u001b[0m",
      "\u001b[1;31mTypeError\u001b[0m                                 Traceback (most recent call last)",
      "\u001b[1;32m<ipython-input-9-072ac009b981>\u001b[0m in \u001b[0;36m<module>\u001b[1;34m\u001b[0m\n\u001b[0;32m      2\u001b[0m     \u001b[1;32mreturn\u001b[0m \u001b[0ma\u001b[0m \u001b[1;33m+\u001b[0m \u001b[0mb\u001b[0m\u001b[1;33m\u001b[0m\u001b[1;33m\u001b[0m\u001b[0m\n\u001b[0;32m      3\u001b[0m \u001b[1;33m\u001b[0m\u001b[0m\n\u001b[1;32m----> 4\u001b[1;33m \u001b[0mresultado\u001b[0m \u001b[1;33m=\u001b[0m \u001b[0msomar\u001b[0m\u001b[1;33m(\u001b[0m\u001b[1;36m5\u001b[0m\u001b[1;33m)\u001b[0m\u001b[1;33m\u001b[0m\u001b[1;33m\u001b[0m\u001b[0m\n\u001b[0m",
      "\u001b[1;31mTypeError\u001b[0m: somar() missing 1 required positional argument: 'b'"
     ]
    }
   ],
   "source": [
    "def somar(a, b):\n",
    "    return a + b\n",
    "\n",
    "resultado = somar(5)"
   ]
  },
  {
   "cell_type": "code",
   "execution_count": 49,
   "id": "5ff2cac2",
   "metadata": {},
   "outputs": [],
   "source": [
    "# Solução\n"
   ]
  },
  {
   "cell_type": "code",
   "execution_count": 11,
   "id": "39d9a01f",
   "metadata": {},
   "outputs": [
    {
     "ename": "ValueError",
     "evalue": "invalid literal for int() with base 10: 'python'",
     "output_type": "error",
     "traceback": [
      "\u001b[1;31m---------------------------------------------------------------------------\u001b[0m",
      "\u001b[1;31mValueError\u001b[0m                                Traceback (most recent call last)",
      "\u001b[1;32m<ipython-input-11-9ae652162590>\u001b[0m in \u001b[0;36m<module>\u001b[1;34m\u001b[0m\n\u001b[1;32m----> 1\u001b[1;33m \u001b[0mint\u001b[0m\u001b[1;33m(\u001b[0m\u001b[1;34m\"python\"\u001b[0m\u001b[1;33m)\u001b[0m\u001b[1;33m\u001b[0m\u001b[1;33m\u001b[0m\u001b[0m\n\u001b[0m",
      "\u001b[1;31mValueError\u001b[0m: invalid literal for int() with base 10: 'python'"
     ]
    }
   ],
   "source": [
    "int(\"python\")"
   ]
  },
  {
   "cell_type": "code",
   "execution_count": 50,
   "id": "451d9045",
   "metadata": {},
   "outputs": [],
   "source": [
    "# Solução\n"
   ]
  },
  {
   "cell_type": "code",
   "execution_count": 12,
   "id": "ddb2d8b2",
   "metadata": {},
   "outputs": [
    {
     "ename": "TypeError",
     "evalue": "can only concatenate str (not \"int\") to str",
     "output_type": "error",
     "traceback": [
      "\u001b[1;31m---------------------------------------------------------------------------\u001b[0m",
      "\u001b[1;31mTypeError\u001b[0m                                 Traceback (most recent call last)",
      "\u001b[1;32m<ipython-input-12-07d6225f6874>\u001b[0m in \u001b[0;36m<module>\u001b[1;34m\u001b[0m\n\u001b[0;32m      1\u001b[0m \u001b[0midade\u001b[0m \u001b[1;33m=\u001b[0m \u001b[1;36m25\u001b[0m\u001b[1;33m\u001b[0m\u001b[1;33m\u001b[0m\u001b[0m\n\u001b[1;32m----> 2\u001b[1;33m \u001b[0mprint\u001b[0m\u001b[1;33m(\u001b[0m\u001b[1;34m\"Minha idade é: \"\u001b[0m \u001b[1;33m+\u001b[0m \u001b[0midade\u001b[0m\u001b[1;33m)\u001b[0m\u001b[1;33m\u001b[0m\u001b[1;33m\u001b[0m\u001b[0m\n\u001b[0m",
      "\u001b[1;31mTypeError\u001b[0m: can only concatenate str (not \"int\") to str"
     ]
    }
   ],
   "source": [
    "idade = 25\n",
    "print(\"Minha idade é: \" + idade)"
   ]
  },
  {
   "cell_type": "code",
   "execution_count": 52,
   "id": "8370a291",
   "metadata": {},
   "outputs": [],
   "source": [
    "# Solução\n"
   ]
  },
  {
   "cell_type": "code",
   "execution_count": 13,
   "id": "448523b7",
   "metadata": {},
   "outputs": [
    {
     "ename": "NameError",
     "evalue": "name 'multiplica' is not defined",
     "output_type": "error",
     "traceback": [
      "\u001b[1;31m---------------------------------------------------------------------------\u001b[0m",
      "\u001b[1;31mNameError\u001b[0m                                 Traceback (most recent call last)",
      "\u001b[1;32m<ipython-input-13-205222be5016>\u001b[0m in \u001b[0;36m<module>\u001b[1;34m\u001b[0m\n\u001b[1;32m----> 1\u001b[1;33m \u001b[0mresultado\u001b[0m \u001b[1;33m=\u001b[0m \u001b[0mmultiplica\u001b[0m\u001b[1;33m(\u001b[0m\u001b[1;36m5\u001b[0m\u001b[1;33m,\u001b[0m \u001b[1;36m2\u001b[0m\u001b[1;33m)\u001b[0m\u001b[1;33m\u001b[0m\u001b[1;33m\u001b[0m\u001b[0m\n\u001b[0m",
      "\u001b[1;31mNameError\u001b[0m: name 'multiplica' is not defined"
     ]
    }
   ],
   "source": [
    "resultado = multiplica(5, 2)"
   ]
  },
  {
   "cell_type": "code",
   "execution_count": null,
   "id": "8fb6d9e1",
   "metadata": {},
   "outputs": [],
   "source": [
    "# Solução\n"
   ]
  },
  {
   "cell_type": "code",
   "execution_count": 16,
   "id": "b890bc08",
   "metadata": {},
   "outputs": [
    {
     "ename": "SyntaxError",
     "evalue": "invalid syntax (<ipython-input-16-53b9abc9acb8>, line 1)",
     "output_type": "error",
     "traceback": [
      "\u001b[1;36m  File \u001b[1;32m\"<ipython-input-16-53b9abc9acb8>\"\u001b[1;36m, line \u001b[1;32m1\u001b[0m\n\u001b[1;33m    soma(a, b):\u001b[0m\n\u001b[1;37m               ^\u001b[0m\n\u001b[1;31mSyntaxError\u001b[0m\u001b[1;31m:\u001b[0m invalid syntax\n"
     ]
    }
   ],
   "source": [
    "soma(a, b):\n",
    "    return a + b"
   ]
  },
  {
   "cell_type": "code",
   "execution_count": null,
   "id": "a13f396a",
   "metadata": {},
   "outputs": [],
   "source": [
    "# Solução: Esquecer de definir uma função com def\n"
   ]
  },
  {
   "cell_type": "code",
   "execution_count": 17,
   "id": "e1f1881e",
   "metadata": {},
   "outputs": [
    {
     "ename": "SyntaxError",
     "evalue": "invalid syntax (<ipython-input-17-5ad9d64caab5>, line 2)",
     "output_type": "error",
     "traceback": [
      "\u001b[1;36m  File \u001b[1;32m\"<ipython-input-17-5ad9d64caab5>\"\u001b[1;36m, line \u001b[1;32m2\u001b[0m\n\u001b[1;33m    if idade = 18:\u001b[0m\n\u001b[1;37m             ^\u001b[0m\n\u001b[1;31mSyntaxError\u001b[0m\u001b[1;31m:\u001b[0m invalid syntax\n"
     ]
    }
   ],
   "source": [
    "idade = 18\n",
    "if idade = 18:\n",
    "    idade = 12\n",
    "print(f\"Você tem {idade} anos.\")"
   ]
  },
  {
   "cell_type": "code",
   "execution_count": null,
   "id": "803dfab1",
   "metadata": {},
   "outputs": [],
   "source": [
    "# solução: Esquecer o operador de comparação em uma estrutura condicional"
   ]
  },
  {
   "cell_type": "code",
   "execution_count": 53,
   "id": "0ff5996e",
   "metadata": {},
   "outputs": [
    {
     "ename": "SyntaxError",
     "evalue": "invalid syntax (<ipython-input-53-59ec2c2e20de>, line 2)",
     "output_type": "error",
     "traceback": [
      "\u001b[1;36m  File \u001b[1;32m\"<ipython-input-53-59ec2c2e20de>\"\u001b[1;36m, line \u001b[1;32m2\u001b[0m\n\u001b[1;33m    if valor = 10:\u001b[0m\n\u001b[1;37m             ^\u001b[0m\n\u001b[1;31mSyntaxError\u001b[0m\u001b[1;31m:\u001b[0m invalid syntax\n"
     ]
    }
   ],
   "source": [
    "valor = 5\n",
    "if valor = 10:\n",
    "    valor = 20"
   ]
  },
  {
   "cell_type": "code",
   "execution_count": 54,
   "id": "42616505",
   "metadata": {},
   "outputs": [],
   "source": [
    "# solução: Erro de operador de atribuição em vez de comparação\n"
   ]
  },
  {
   "cell_type": "code",
   "execution_count": 20,
   "id": "c7d7a9ed",
   "metadata": {},
   "outputs": [
    {
     "name": "stdout",
     "output_type": "stream",
     "text": [
      "None\n"
     ]
    }
   ],
   "source": [
    "def soma(a, b):\n",
    "    resultado = a + b\n",
    "\n",
    "print(soma(5, 3))"
   ]
  },
  {
   "cell_type": "code",
   "execution_count": 55,
   "id": "dfe3e5cd",
   "metadata": {},
   "outputs": [],
   "source": [
    "# solução Esquecer de retornar um valor em uma função que deveria ter retorno\n"
   ]
  },
  {
   "cell_type": "code",
   "execution_count": 56,
   "id": "a618c94c",
   "metadata": {},
   "outputs": [
    {
     "ename": "NameError",
     "evalue": "name 'add' is not defined",
     "output_type": "error",
     "traceback": [
      "\u001b[1;31m---------------------------------------------------------------------------\u001b[0m",
      "\u001b[1;31mNameError\u001b[0m                                 Traceback (most recent call last)",
      "\u001b[1;32m<ipython-input-56-e57a47ae4057>\u001b[0m in \u001b[0;36m<module>\u001b[1;34m\u001b[0m\n\u001b[1;32m----> 1\u001b[1;33m \u001b[1;32mif\u001b[0m \u001b[0madd\u001b[0m \u001b[1;33m==\u001b[0m \u001b[1;36m2\u001b[0m\u001b[1;33m:\u001b[0m\u001b[1;33m\u001b[0m\u001b[1;33m\u001b[0m\u001b[0m\n\u001b[0m\u001b[0;32m      2\u001b[0m     \u001b[0madd\u001b[0m \u001b[1;33m+=\u001b[0m \u001b[0mi\u001b[0m\u001b[1;33m\u001b[0m\u001b[1;33m\u001b[0m\u001b[0m\n",
      "\u001b[1;31mNameError\u001b[0m: name 'add' is not defined"
     ]
    }
   ],
   "source": [
    "if add == 2:\n",
    "    add += i"
   ]
  },
  {
   "cell_type": "code",
   "execution_count": 57,
   "id": "83aa00cc",
   "metadata": {},
   "outputs": [],
   "source": [
    "# solução: Esquecer de iniciar uma variável antes de usá-la \n"
   ]
  },
  {
   "cell_type": "code",
   "execution_count": 24,
   "id": "61f868b7",
   "metadata": {},
   "outputs": [
    {
     "ename": "ZeroDivisionError",
     "evalue": "integer division or modulo by zero",
     "output_type": "error",
     "traceback": [
      "\u001b[1;31m---------------------------------------------------------------------------\u001b[0m",
      "\u001b[1;31mZeroDivisionError\u001b[0m                         Traceback (most recent call last)",
      "\u001b[1;32m<ipython-input-24-8f7f0e98b1d2>\u001b[0m in \u001b[0;36m<module>\u001b[1;34m\u001b[0m\n\u001b[1;32m----> 1\u001b[1;33m \u001b[0mresto\u001b[0m \u001b[1;33m=\u001b[0m \u001b[1;36m10\u001b[0m \u001b[1;33m%\u001b[0m \u001b[1;36m0\u001b[0m\u001b[1;33m\u001b[0m\u001b[1;33m\u001b[0m\u001b[0m\n\u001b[0m",
      "\u001b[1;31mZeroDivisionError\u001b[0m: integer division or modulo by zero"
     ]
    }
   ],
   "source": [
    "resto = 10 % 0"
   ]
  },
  {
   "cell_type": "code",
   "execution_count": null,
   "id": "ddeb7541",
   "metadata": {},
   "outputs": [],
   "source": [
    "# solução:"
   ]
  },
  {
   "cell_type": "code",
   "execution_count": 64,
   "id": "e850bbfd",
   "metadata": {},
   "outputs": [
    {
     "ename": "ZeroDivisionError",
     "evalue": "division by zero",
     "output_type": "error",
     "traceback": [
      "\u001b[1;31m---------------------------------------------------------------------------\u001b[0m",
      "\u001b[1;31mZeroDivisionError\u001b[0m                         Traceback (most recent call last)",
      "\u001b[1;32m<ipython-input-64-e574edb36883>\u001b[0m in \u001b[0;36m<module>\u001b[1;34m\u001b[0m\n\u001b[1;32m----> 1\u001b[1;33m \u001b[1;36m10\u001b[0m\u001b[1;33m/\u001b[0m\u001b[1;36m0\u001b[0m\u001b[1;33m\u001b[0m\u001b[1;33m\u001b[0m\u001b[0m\n\u001b[0m",
      "\u001b[1;31mZeroDivisionError\u001b[0m: division by zero"
     ]
    }
   ],
   "source": [
    "10/0"
   ]
  },
  {
   "cell_type": "code",
   "execution_count": null,
   "id": "a319e8e4",
   "metadata": {},
   "outputs": [],
   "source": [
    "# solução:\n"
   ]
  },
  {
   "cell_type": "code",
   "execution_count": 68,
   "id": "8e7e0917",
   "metadata": {},
   "outputs": [
    {
     "ename": "SyntaxError",
     "evalue": "invalid syntax (<ipython-input-68-8515e9477153>, line 2)",
     "output_type": "error",
     "traceback": [
      "\u001b[1;36m  File \u001b[1;32m\"<ipython-input-68-8515e9477153>\"\u001b[1;36m, line \u001b[1;32m2\u001b[0m\n\u001b[1;33m    return a = b\u001b[0m\n\u001b[1;37m             ^\u001b[0m\n\u001b[1;31mSyntaxError\u001b[0m\u001b[1;31m:\u001b[0m invalid syntax\n"
     ]
    }
   ],
   "source": [
    "def verificar_igualdade(a, b):\n",
    "    return a = b\n",
    "\n",
    "verificar_igualdade(2, 3)\n",
    " "
   ]
  },
  {
   "cell_type": "code",
   "execution_count": 69,
   "id": "3773c5c6",
   "metadata": {},
   "outputs": [],
   "source": [
    "# solução \n"
   ]
  },
  {
   "cell_type": "code",
   "execution_count": 70,
   "id": "ad2e237a",
   "metadata": {},
   "outputs": [
    {
     "data": {
      "text/plain": [
       "5.333333333333333"
      ]
     },
     "execution_count": 70,
     "metadata": {},
     "output_type": "execute_result"
    }
   ],
   "source": [
    "def calcular_media(a, b):\n",
    "    return (a + b) / 3\n",
    "\n",
    "calcular_media(8,8)"
   ]
  },
  {
   "cell_type": "code",
   "execution_count": 71,
   "id": "a7d916f1",
   "metadata": {},
   "outputs": [],
   "source": [
    "#solução \n"
   ]
  }
 ],
 "metadata": {
  "kernelspec": {
   "display_name": "Python 3",
   "language": "python",
   "name": "python3"
  },
  "language_info": {
   "codemirror_mode": {
    "name": "ipython",
    "version": 3
   },
   "file_extension": ".py",
   "mimetype": "text/x-python",
   "name": "python",
   "nbconvert_exporter": "python",
   "pygments_lexer": "ipython3",
   "version": "3.9.5"
  }
 },
 "nbformat": 4,
 "nbformat_minor": 5
}
