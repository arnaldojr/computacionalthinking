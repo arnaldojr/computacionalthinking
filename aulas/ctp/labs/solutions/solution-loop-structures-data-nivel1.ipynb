{
 "cells": [
  {
   "cell_type": "markdown",
   "id": "1d4ac727",
   "metadata": {},
   "source": [
    "## Lista de Exercícios: Loops (`for` e `while`) e Estruturas de Dados (`lista` e `tupla`)\n",
    "\n",
    "Neste notebook, você encontrará exercícios para praticar conceitos relacionados a loops (`for` e `while`) e estruturas de dados (`lista` e `tupla`).\n",
    "\n",
    "\n",
    "### Dicas Importantes\n",
    "\n",
    "- **Não altere os nomes dos arquivos ou funções**: Isso pode fazer com que os testes automáticos falhem, mesmo que sua solução esteja correta.\n",
    "- **Leia os erros com atenção**: Eles podem fornecer dicas sobre o que está errado em seu código.\n",
    "- **Peça ajuda**: Se estiver tendo dificuldades, não hesite em pedir ajuda ao professor ou colegas.\n"
   ]
  },
  {
   "cell_type": "markdown",
   "id": "ee00e572",
   "metadata": {},
   "source": [
    "1. Escreva a função `primeiros_n_impares` que recebe como argumento `n` e retorna uma lista com os números ímpares usando um loop `for`.\n",
    "\n",
    "Exemplo: a função recebe `10` e retorna `[1, 3, 5, 7, 9]`"
   ]
  },
  {
   "cell_type": "code",
   "execution_count": 2,
   "id": "d02d0f0f",
   "metadata": {},
   "outputs": [
    {
     "name": "stdout",
     "output_type": "stream",
     "text": [
      "[1, 3, 5, 7, 9]\n"
     ]
    }
   ],
   "source": [
    "## exemplo de resolução 1\n",
    "def primeiros_n_impares(n):\n",
    "    return [i for i in range(1, n, 2)]\n",
    "\n",
    "print(primeiros_n_impares(10))"
   ]
  },
  {
   "cell_type": "code",
   "execution_count": 10,
   "id": "4aae7482",
   "metadata": {},
   "outputs": [
    {
     "name": "stdout",
     "output_type": "stream",
     "text": [
      "[1, 3, 5, 7, 9]\n"
     ]
    }
   ],
   "source": [
    "## exemplo de resolução 2\n",
    "def primeiros_n_impares(n):\n",
    "    lista = []\n",
    "    for i in range(1, n, 2):\n",
    "        lista.append(i)\n",
    "    return lista \n",
    "\n",
    "print(primeiros_n_impares(10))"
   ]
  },
  {
   "cell_type": "markdown",
   "id": "d3be7a0e",
   "metadata": {},
   "source": [
    "2. Escreva um programa que encontre o fatorial de um número \\( n \\) usando um loop `while`.\n",
    "\n",
    "Escreva a função `fatorial` que recebe um parametro `n` e retorna o valor do fatorial.\n"
   ]
  },
  {
   "cell_type": "code",
   "execution_count": 11,
   "id": "3d195072",
   "metadata": {},
   "outputs": [
    {
     "name": "stdout",
     "output_type": "stream",
     "text": [
      "24\n"
     ]
    }
   ],
   "source": [
    "'''\n",
    "Este é um clássico. para praticar lógica.\n",
    "'''\n",
    "\n",
    "def fatorial(n):\n",
    "    resultado = 1\n",
    "    while n > 1:\n",
    "        resultado *= n  # é o mesmo que resultado = resultado * n\n",
    "        n -= 1          # é o mesmo que n = n - 1\n",
    "    return resultado\n",
    "\n",
    "print(fatorial(4))"
   ]
  },
  {
   "cell_type": "markdown",
   "id": "6a56d59c",
   "metadata": {},
   "source": [
    "3. `FizzBuzz` é uma brincadeira matemática e de programação muito comum em entrevistas de emprego para programadores. \n",
    " \n",
    "A ideia básica do jogo é contar de 1 a 100, e quando um número é múltiplo de 3, em vez de dizer o número, deve-se dizer `Fizz`. Se um número é múltiplo de 5, deve-se dizer `Buzz`. Se o número é múltiplo tanto de 3 como de 5, deve-se dizer `FizzBuzz`.\n",
    "\n",
    "Por exemplo, os primeiros números da sequência seriam:\n",
    "\n",
    "    1, 2, Fizz, 4, Buzz, Fizz, 7, 8, Fizz, Buzz, 11, Fizz, 13, 14, FizzBuzz, 16, ... \n",
    "\n",
    "\n",
    "Você deve escrever a função `fizz_buzz` que não recebe parametro e que retorna uma lista com o resultado do jogo. Use um laço for."
   ]
  },
  {
   "cell_type": "code",
   "execution_count": 12,
   "id": "e8c4a0b2",
   "metadata": {},
   "outputs": [
    {
     "name": "stdout",
     "output_type": "stream",
     "text": [
      "[1, 2, 'Fizz', 4, 'Buzz', 'Fizz', 7, 8, 'Fizz', 'Buzz', 11, 'Fizz', 13, 14, 'FizzBuzz', 16, 17, 'Fizz', 19, 'Buzz', 'Fizz', 22, 23, 'Fizz', 'Buzz', 26, 'Fizz', 28, 29, 'FizzBuzz', 31, 32, 'Fizz', 34, 'Buzz', 'Fizz', 37, 38, 'Fizz', 'Buzz', 41, 'Fizz', 43, 44, 'FizzBuzz', 46, 47, 'Fizz', 49, 'Buzz', 'Fizz', 52, 53, 'Fizz', 'Buzz', 56, 'Fizz', 58, 59, 'FizzBuzz', 61, 62, 'Fizz', 64, 'Buzz', 'Fizz', 67, 68, 'Fizz', 'Buzz', 71, 'Fizz', 73, 74, 'FizzBuzz', 76, 77, 'Fizz', 79, 'Buzz', 'Fizz', 82, 83, 'Fizz', 'Buzz', 86, 'Fizz', 88, 89, 'FizzBuzz', 91, 92, 'Fizz', 94, 'Buzz', 'Fizz', 97, 98, 'Fizz', 'Buzz']\n"
     ]
    }
   ],
   "source": [
    "'''\n",
    "Este é um clássico. para praticar lógica.\n",
    "'''\n",
    "\n",
    "def fizz_buzz():\n",
    "    resultado = []\n",
    "    for i in range(1, 101):     # lembrar de fazer até 101\n",
    "        if i % 3 == 0 and i % 5 == 0:\n",
    "            resultado.append(\"FizzBuzz\")\n",
    "        elif i % 3 == 0:\n",
    "            resultado.append(\"Fizz\")\n",
    "        elif i % 5 == 0:\n",
    "            resultado.append(\"Buzz\")\n",
    "        else:\n",
    "            resultado.append(i)\n",
    "    return resultado\n",
    "\n",
    "print(fizz_buzz())"
   ]
  },
  {
   "cell_type": "markdown",
   "id": "8e16091f",
   "metadata": {},
   "source": [
    "4. Crie uma lista contendo os primeiros \\( n \\) números pares e imprima-a.\n",
    "\n",
    "A função deve ter o nome `dobra_n_eventos` recebe um numero `n` e retorna com o dobro dos numeros pares.\n",
    "\n",
    "Exemplo:\n",
    "\n",
    "- se `n` for 10, retorna uma lista com 2, 4, 6, 8, 10, 12, 14, 16, 18, 20.\n",
    "- se `n` for 5, retorna uma lista com 2, 4, 6, 8, 10."
   ]
  },
  {
   "cell_type": "code",
   "execution_count": 24,
   "id": "667854dd",
   "metadata": {},
   "outputs": [
    {
     "name": "stdout",
     "output_type": "stream",
     "text": [
      "[2, 4, 6, 8, 10]\n"
     ]
    }
   ],
   "source": [
    "\"\"\"\n",
    "Se é pra retornar com o dobro dos pares temos que fazer 2*n mas para pegar esse valor na lista tem que somar 1.\n",
    "\n",
    "então fica o range de 2 até 2n+1 com passo de 2\n",
    "\n",
    "\"\"\"\n",
    "\n",
    "## exemplo de resolução 1\n",
    "def dobra_n_eventos(n):\n",
    "    return [i for i in range(2, 2*n+1, 2)]\n",
    "\n",
    "print(dobra_n_eventos(5))"
   ]
  },
  {
   "cell_type": "code",
   "execution_count": 23,
   "id": "58441739",
   "metadata": {},
   "outputs": [
    {
     "name": "stdout",
     "output_type": "stream",
     "text": [
      "[2, 4, 6, 8, 10]\n"
     ]
    }
   ],
   "source": [
    "## exemplo de resolução 2\n",
    "def dobra_n_eventos(n):\n",
    "    lista = []\n",
    "    for i in range(2, 2*n+1, 2): \n",
    "        lista.append(i)\n",
    "\n",
    "    return lista\n",
    "\n",
    "print(dobra_n_eventos(5))"
   ]
  },
  {
   "cell_type": "markdown",
   "id": "42ca6e37",
   "metadata": {},
   "source": [
    "5. Dada uma tupla `t` contendo números, escreva a função `soma_e_media` para calcular a soma e a média desses números.\n",
    "\n",
    "A função `soma_e_media` recebe como argumento uma tupla de numeros e retorna uma tupla com os argumentos (soma, media).\n",
    "\n",
    "Exemplo:\n",
    "\n",
    "- se `t` for (10,2,3,4), retorna a tupla (19,4.75)\n",
    "- se `t` for (1,1,1,2,2,2), retorna a tupla (9,1.5)"
   ]
  },
  {
   "cell_type": "code",
   "execution_count": 14,
   "id": "d0dae500",
   "metadata": {},
   "outputs": [],
   "source": [
    "## exemplo de resolução 1\n",
    "def soma_e_media(t):\n",
    "    soma = sum(t)\n",
    "    media = soma / len(t)\n",
    "    return soma, media   # o return de uma função com mais multiplos argumentos separados por vigula será uma tupla.\n",
    "\n",
    "print(soma_e_media((1,1,1,2,2,2)))"
   ]
  },
  {
   "cell_type": "code",
   "execution_count": 16,
   "id": "b60c05a6",
   "metadata": {},
   "outputs": [
    {
     "name": "stdout",
     "output_type": "stream",
     "text": [
      "(9, 1.5)\n"
     ]
    }
   ],
   "source": [
    "## exemplo de resolução 2\n",
    "def soma_e_media(t):\n",
    "    soma = 0\n",
    "    for i in t:\n",
    "        soma += i\n",
    "    media = soma / len(t)\n",
    "    return (soma, media)\n",
    "\n",
    "print(soma_e_media((1,1,1,2,2,2)))"
   ]
  },
  {
   "cell_type": "markdown",
   "id": "b1d1022b",
   "metadata": {},
   "source": [
    "6. Escreva um programa que remova todos os números ímpares de uma lista dada.\n",
    "\n",
    "A função `remove_impaar` recebe uma lista e devolve uma lista."
   ]
  },
  {
   "cell_type": "code",
   "execution_count": 22,
   "id": "838a06b5",
   "metadata": {},
   "outputs": [
    {
     "name": "stdout",
     "output_type": "stream",
     "text": [
      "[2, 2, 2, 2]\n"
     ]
    }
   ],
   "source": [
    "## exemplo de resolução 1\n",
    "def remove_impar(lst):\n",
    "    return [i for i in lst if i % 2 == 0]\n",
    "\n",
    "print(remove_impar((1,1,1,11,2,2,2,2,3,3,3)))"
   ]
  },
  {
   "cell_type": "code",
   "execution_count": 21,
   "id": "dc7b2ec3",
   "metadata": {},
   "outputs": [
    {
     "name": "stdout",
     "output_type": "stream",
     "text": [
      "[4, 2, 20, 2, 2]\n"
     ]
    }
   ],
   "source": [
    "## exemplo de resolução 2\n",
    "def remove_impar(lst):\n",
    "    par = []\n",
    "    for i in lst:\n",
    "        if i%2 == 0:\n",
    "            par.append(i)\n",
    "    return par\n",
    "\n",
    "print(remove_impar((1,1,4,11,2,20,2,2,3,3,3)))"
   ]
  },
  {
   "cell_type": "markdown",
   "id": "695047fb",
   "metadata": {},
   "source": [
    "\n",
    "7. A função `fibonacci` recebe um numero inteiro e retorna uma lista com os números da sequência Fibonacci até n. Use um loop `for`.\n",
    "\n",
    "A sequencia de fibonacci é uma sequencia numérica onde o proximo numero é a soma do atual com o anterior. como no exemplo:\n",
    "\n",
    "0, 1, 1, 2, 3, 5, 8... o próximo numero será 8+5=13\n"
   ]
  },
  {
   "cell_type": "code",
   "execution_count": 27,
   "id": "579a13e3",
   "metadata": {},
   "outputs": [
    {
     "name": "stdout",
     "output_type": "stream",
     "text": [
      "[0, 1, 1, 2, 3, 5, 8, 13, 21, 34]\n"
     ]
    }
   ],
   "source": [
    "'''\n",
    "Este é um clássico. para praticar lógica.\n",
    "indice =  0 1 2 3 4 5 6\n",
    " lista = [2,4,3,5,6,9,8]\n",
    "\n",
    "i = 5\n",
    "lista[i]   representa o indice i=5; valor = 9 \n",
    "lista[i-1] representa o indice anterior, i=4; valor = 6\n",
    "lista[i-2] representa o indice i=3; valor = 5\n",
    "\n",
    "isso é importante pois na sequência de fibonacci fazemos indice atual como soma dos anteriores.\n",
    "'''\n",
    "\n",
    "def fibonacci(n):\n",
    "    fib = [0, 1]\n",
    "    for i in range(2, n):\n",
    "        fib.append(fib[i-1] + fib[i-2])\n",
    "    return fib[:n]\n",
    "\n",
    "print(fibonacci(10))"
   ]
  },
  {
   "cell_type": "markdown",
   "id": "0fd63b34",
   "metadata": {},
   "source": [
    "8. Escreva uma função `max_e_index` que, recebe uma lista de números, encontra o maior número usando um loop `while` e o armazena em uma tupla junto com seu índice na lista original para retorno da função.\n",
    "\n",
    "Exemplo:\n",
    "\n",
    "- se a lista recebida pela função for [3,4,5,2,7,9,4,1,1,1,4,0,], a função retorna a tupla (9,5)"
   ]
  },
  {
   "cell_type": "code",
   "execution_count": 29,
   "id": "85791d7e",
   "metadata": {},
   "outputs": [
    {
     "name": "stdout",
     "output_type": "stream",
     "text": [
      "(9, 5)\n"
     ]
    }
   ],
   "source": [
    "'''\n",
    "desafio clássico de lógica.\n",
    "\n",
    "a idéia é varrer o vetor procurando o maior valor e o indice e salvar nas variaveis max_val e max_index\n",
    "\n",
    "'''\n",
    "def max_e_index(lst):\n",
    "    max_val = lst[0]    # assume o maior valor é o primeiro da lista\n",
    "    max_index = 0       # entao o indice correspondente é 0\n",
    "    i = 1\n",
    "    while i < len(lst):     # faz a varredura da lista\n",
    "        if lst[i] > max_val:    # se o valor atual da lista é maior \n",
    "            max_val = lst[i]    # então troca o valor\n",
    "            max_index = i       # e atualizar o indice\n",
    "        i += 1\n",
    "    return max_val, max_index\n",
    "\n",
    "print(max_e_index([3,4,5,2,7,9,4,1,1,1,4,0,]))"
   ]
  },
  {
   "cell_type": "code",
   "execution_count": 30,
   "id": "d53c4609",
   "metadata": {},
   "outputs": [
    {
     "name": "stdout",
     "output_type": "stream",
     "text": [
      "(9, 5)\n"
     ]
    }
   ],
   "source": [
    "# usando laço for\n",
    "\n",
    "def max_e_index(lst):\n",
    "    max_val = lst[0]\n",
    "    max_index = 0\n",
    "    for i in lst:\n",
    "        if lst[i] > max_val:\n",
    "            max_val = lst[i]\n",
    "            max_index = i\n",
    "    return max_val, max_index\n",
    "\n",
    "print(max_e_index([3,4,5,2,7,9,4,1,1,1,4,0,]))"
   ]
  },
  {
   "cell_type": "markdown",
   "id": "d613b01f",
   "metadata": {},
   "source": [
    "9. Utilizando um loop `for` para percorrer uma lista de palavras e armazenar em uma nova lista todas as palavras que possuem mais de 5 letras. No final, converta essa lista em uma tupla como retorno da função. a função deve se chamar `palavras_grandes`\n",
    "\n",
    "\n",
    "Por exemplo:\n",
    "\n",
    "se a lista de entrada for `[\"olha\",\"o\",\"pensamento\",\"computacional\",\"python\",\"oi\"]` então a saida deve ser `('pensamento', 'computacional', 'python')`"
   ]
  },
  {
   "cell_type": "code",
   "execution_count": 32,
   "id": "cd3a97e9",
   "metadata": {},
   "outputs": [
    {
     "name": "stdout",
     "output_type": "stream",
     "text": [
      "('pensamento', 'computacional', 'python')\n"
     ]
    }
   ],
   "source": [
    "## exemplo de resolução 1\n",
    "\n",
    "def palavras_grandes(lst):\n",
    "    resultado = []      # cria uma lista para adicionar as palavras grandes\n",
    "    for palavra in lst:\n",
    "        if len(palavra) > 5:\n",
    "            resultado.append(palavra)\n",
    "\n",
    "    return tuple(resultado) # converte a lista em tuple\n",
    "\n",
    "print(palavras_grandes([\"olha\",\"o\",\"pensamento\",\"computacional\",\"python\",\"oi\",]))"
   ]
  },
  {
   "cell_type": "code",
   "execution_count": 33,
   "id": "4fd9ec09",
   "metadata": {},
   "outputs": [
    {
     "name": "stdout",
     "output_type": "stream",
     "text": [
      "('pensamento', 'computacional', 'python')\n"
     ]
    }
   ],
   "source": [
    "## exemplo de resolução 2\n",
    "\n",
    "def palavras_grandes(lst):\n",
    "    resultado = [palavra for palavra in lst if len(palavra) > 5]\n",
    "    return tuple(resultado)\n",
    "\n",
    "print(palavras_grandes([\"olha\",\"o\",\"pensamento\",\"computacional\",\"python\",\"oi\",]))"
   ]
  },
  {
   "cell_type": "markdown",
   "id": "9ba5cc2c",
   "metadata": {},
   "source": [
    "10. Foram anotadas as idades e alturas de alunos em lista de tuplas com a segunte estrutura `[(idade1,altura1),(idade2,altura2),...]`. Faça a função `estudantes` que recebe a lista de estudantes e determina quantos alunos com mais de 13 anos possuem altura inferior à média de altura desses alunos.\n",
    "\n",
    "Por exemplo:\n",
    "\n",
    "Se receber `[(14, 160), (15, 165), (16, 170)]` então retorna `1`."
   ]
  },
  {
   "cell_type": "code",
   "execution_count": 40,
   "id": "64d131c0",
   "metadata": {},
   "outputs": [
    {
     "name": "stdout",
     "output_type": "stream",
     "text": [
      "3\n"
     ]
    }
   ],
   "source": [
    "def estudantes(students):\n",
    "    # Passo 1: Calcular a altura média\n",
    "    soma_altura = 0\n",
    "    for idade, altura in students:  # desta forma descompacta a tupla\n",
    "        soma_altura += altura   # soma todas as alturas\n",
    "        \n",
    "    media_altura = soma_altura / len(students)\n",
    "    \n",
    "    # Passo 2: Contar estudantes com mais de 13 anos e altura abaixo da média\n",
    "    count = 0\n",
    "    for idade, altura in students:\n",
    "        if idade > 13 and altura < media_altura:\n",
    "            count += 1\n",
    "            \n",
    "    return count\n",
    "\n",
    "\n",
    "print(estudantes([(14, 160), (15, 165), (16, 170),(15, 190)]))"
   ]
  },
  {
   "cell_type": "code",
   "execution_count": 39,
   "id": "a1637e0e",
   "metadata": {},
   "outputs": [
    {
     "name": "stdout",
     "output_type": "stream",
     "text": [
      "1\n"
     ]
    }
   ],
   "source": [
    "def estudantes(students):\n",
    "    media_altura = sum([altura for _, altura in students]) / len(students)\n",
    "    count = sum(1 for idade, altura in students if idade > 13 and altura < media_altura)\n",
    "    return count\n",
    "\n",
    "print(estudantes([(14, 160), (15, 165), (16, 170)]))"
   ]
  },
  {
   "cell_type": "markdown",
   "id": "7f484e34",
   "metadata": {},
   "source": [
    "12. Problema de Estatísticas de Consumo de Carro\n",
    "\n",
    "Escreva uma função chamada `estatisticas_carros` que será responsável por fornecer informações sobre o consumo de combustível de diferentes modelos de carros.\n",
    "\n",
    "Entradas:\n",
    "\n",
    "A função deve receber duas listas de mesmo tamanho:\n",
    "\n",
    "`modelos`: Uma lista de strings, onde cada string representa o nome de um modelo de carro.\n",
    "`consumo`: Uma lista de números (floats ou inteiros) que representam o consumo em km por litro de cada carro. O i-ésimo elemento desta lista corresponde ao i-ésimo elemento da lista modelos.\n",
    "\n",
    "Saídas:\n",
    "\n",
    "A função deve retornar uma string representando o modelo do carro mais econômico.\n",
    "\n",
    "Exemplo:\n",
    "\n",
    "Suponha que temos os seguintes modelos e consumos:\n",
    "\n",
    "```python\n",
    "modelos = [\"Fusca\", \"Gol\"]\n",
    "consumos = [8, 10]\n",
    "```\n",
    "a função retorna `Gol`"
   ]
  },
  {
   "cell_type": "code",
   "execution_count": 34,
   "id": "92a48410",
   "metadata": {},
   "outputs": [
    {
     "name": "stdout",
     "output_type": "stream",
     "text": [
      "Gol\n"
     ]
    }
   ],
   "source": [
    "def estatisticas_carros(modelos, consumos):\n",
    "    index_economico = consumos.index(max(consumos))\n",
    "    modelo_economico = modelos[index_economico]\n",
    "\n",
    "    return modelo_economico\n",
    "\n",
    "print(estatisticas_carros(['Fusca','Gol'],[8,10]))\n"
   ]
  },
  {
   "cell_type": "markdown",
   "id": "d3032dd4",
   "metadata": {},
   "source": [
    "13. Resolva usando for: Faça uma função `fracao` que calcule e retorne o valor de\n",
    "\n",
    "$$\n",
    "  S= \\frac{1}{1}+\\frac{3}{2}+\\frac{5}{3}+\\frac{7}{4}+\\frac{9}{5}+...+\\frac{99}{50}\n",
    "$$"
   ]
  },
  {
   "cell_type": "code",
   "execution_count": 41,
   "id": "4fe8fd2b",
   "metadata": {},
   "outputs": [
    {
     "data": {
      "text/plain": [
       "95.5007946616706"
      ]
     },
     "execution_count": 41,
     "metadata": {},
     "output_type": "execute_result"
    }
   ],
   "source": [
    "def fracao():\n",
    "    s = 0\n",
    "    for i in range(1, 51):  # denominador varia de 1 a 50\n",
    "        numerador = 2 * i - 1  # para obter a sequência de números ímpares\n",
    "        s += numerador / i\n",
    "    return s\n",
    "\n",
    "resultado = fracao()\n",
    "resultado"
   ]
  },
  {
   "cell_type": "markdown",
   "id": "b4e32d95",
   "metadata": {},
   "source": [
    "14. Resolva usando for: Faça uma função `fracao2` que calcule e retorne o valor de\n",
    "\n",
    "$$\n",
    "  S= \\frac{1}{1}+\\frac{2}{4}+\\frac{3}{9}+\\frac{4}{16}+...+\\frac{10}{100}\n",
    "$$"
   ]
  },
  {
   "cell_type": "code",
   "execution_count": 43,
   "id": "b4d34521",
   "metadata": {},
   "outputs": [
    {
     "data": {
      "text/plain": [
       "2.9289682539682538"
      ]
     },
     "execution_count": 43,
     "metadata": {},
     "output_type": "execute_result"
    }
   ],
   "source": [
    "def fracao2():\n",
    "    s = 0\n",
    "    for i in range(1, 11):  \n",
    "        denominador = i**2  \n",
    "        s += i / denominador\n",
    "    return s\n",
    "\n",
    "resultado = fracao2()\n",
    "resultado"
   ]
  },
  {
   "cell_type": "markdown",
   "id": "d49a9804",
   "metadata": {},
   "source": [
    "15. Faça uma função `fracao3` que calcule a seguinte soma:\n",
    "\n",
    "$$\n",
    "  S= \\frac{10}{1!}-\\frac{9}{2!}+\\frac{8}{3!}-\\frac{7}{4!}+...-\\frac{1}{10!}\n",
    "$$"
   ]
  },
  {
   "cell_type": "code",
   "execution_count": 46,
   "id": "e351eb10",
   "metadata": {},
   "outputs": [
    {
     "data": {
      "text/plain": [
       "6.58544670414462"
      ]
     },
     "execution_count": 46,
     "metadata": {},
     "output_type": "execute_result"
    }
   ],
   "source": [
    "def fracao3():\n",
    "    s = 0\n",
    "    sinal = 1  # inicia com sinal positivo\n",
    "    for i in range(1, 11):  # de 1 a 10\n",
    "        numerador =  sinal * (11 - i) \n",
    "        denominador = fatorial(i)\n",
    "        s += numerador / denominador\n",
    "        sinal *= -1  # alterna o sinal\n",
    "    return s\n",
    "\n",
    "## o fatoria já está feito no começo da lista vamos usar...\n",
    "def fatorial(n):\n",
    "    resultado = 1\n",
    "    while n > 1:\n",
    "        resultado *= n  \n",
    "        n -= 1          \n",
    "    return resultado\n",
    "\n",
    "\n",
    "resultado = fracao3()\n",
    "resultado"
   ]
  }
 ],
 "metadata": {
  "kernelspec": {
   "display_name": "Python 3",
   "language": "python",
   "name": "python3"
  },
  "language_info": {
   "codemirror_mode": {
    "name": "ipython",
    "version": 3
   },
   "file_extension": ".py",
   "mimetype": "text/x-python",
   "name": "python",
   "nbconvert_exporter": "python",
   "pygments_lexer": "ipython3",
   "version": "3.9.5"
  }
 },
 "nbformat": 4,
 "nbformat_minor": 5
}
