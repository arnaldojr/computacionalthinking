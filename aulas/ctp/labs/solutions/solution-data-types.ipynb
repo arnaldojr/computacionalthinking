{
 "cells": [
  {
   "cell_type": "markdown",
   "metadata": {},
   "source": [
    "\n",
    "\n",
    "## Solução Exercícios com Tipos de dados e Variáveis\n",
    "\n",
    "Neste notebook, você encontrará exercícios relacionados a variáveis, tipos de dados, operações lógicas e matemáticas.\n",
    "\n",
    "### Dicas Importantes\n",
    "\n",
    "- **Não altere os nomes dos arquivos ou funções**: Isso pode fazer com que os testes automáticos falhem, mesmo que sua solução esteja correta.\n",
    "- **Leia os erros com atenção**: Eles podem fornecer dicas sobre o que está errado em seu código.\n",
    "- **Peça ajuda**: Se estiver tendo dificuldades, não hesite em pedir ajuda ao professor ou colegas.\n"
   ]
  },
  {
   "cell_type": "markdown",
   "metadata": {},
   "source": [
    "## Exemplo Resolvido:\n",
    "\n",
    "Declare uma variável chamada `nome` e atribua a ela o valor \"Python\".\n"
   ]
  },
  {
   "cell_type": "code",
   "execution_count": 18,
   "metadata": {},
   "outputs": [],
   "source": [
    "# Sua solução aqui\n",
    "\n",
    "nome = \"Python\""
   ]
  },
  {
   "cell_type": "markdown",
   "metadata": {},
   "source": [
    "## Exemplo Resolvido:\n",
    "\n",
    "Calcule a soma de `a` e `b` e armazene o resultado na variável `resultado_soma`.\n"
   ]
  },
  {
   "cell_type": "code",
   "execution_count": 19,
   "metadata": {},
   "outputs": [],
   "source": [
    "a = 10\n",
    "b = 20\n",
    "# Sua solução aqui\n",
    "\n",
    "resultado_soma = a+b"
   ]
  },
  {
   "cell_type": "markdown",
   "metadata": {},
   "source": [
    "## Agora é com você:\n",
    "\n",
    "Resolva os exercicios abaixo"
   ]
  },
  {
   "cell_type": "markdown",
   "metadata": {},
   "source": [
    "## Exercicios\n",
    "\n",
    "Determine o tipo de dado da variável `valor` e armazene-o na variável `tipo_valor`. Dica: use a função ``type()`` \n"
   ]
  },
  {
   "cell_type": "code",
   "execution_count": 17,
   "metadata": {},
   "outputs": [],
   "source": [
    "valor = 123.45\n",
    "# Sua solução aqui\n",
    "\n",
    "tipo_valor = type(valor)"
   ]
  },
  {
   "cell_type": "markdown",
   "metadata": {},
   "source": [
    "Determine se `x` é maior que `y` e armazene o resultado na variável `x_maior_que_y`.\n"
   ]
  },
  {
   "cell_type": "code",
   "execution_count": 16,
   "metadata": {},
   "outputs": [],
   "source": [
    "x = 15\n",
    "y = 10\n",
    "# Sua solução aqui\n",
    "x_maior_que_y = x > y"
   ]
  },
  {
   "cell_type": "markdown",
   "metadata": {},
   "source": [
    "Calcule a subtração de `x` e `y` e armazene o resultado na variável `resultado_subtacao`."
   ]
  },
  {
   "cell_type": "code",
   "execution_count": 25,
   "metadata": {},
   "outputs": [],
   "source": [
    "# Sua solução aqui\n",
    "\n",
    "resultado_subtacao = x - y"
   ]
  },
  {
   "cell_type": "markdown",
   "metadata": {},
   "source": [
    "Calcule a divisão de `x` e `y` e armazene o resultado na variável `resultado_divisao`."
   ]
  },
  {
   "cell_type": "code",
   "execution_count": 24,
   "metadata": {},
   "outputs": [],
   "source": [
    "# Sua solução aqui\n",
    "\n",
    "resultado_divisao = x / y "
   ]
  },
  {
   "cell_type": "markdown",
   "metadata": {},
   "source": [
    "Calcule a divisão inteira de `x` e `y` e armazene o resultado na variável `resultado_divisao_inteira`."
   ]
  },
  {
   "cell_type": "code",
   "execution_count": 23,
   "metadata": {},
   "outputs": [],
   "source": [
    "# Sua solução aqui\n",
    "\n",
    "divisao_inteira = x // y"
   ]
  },
  {
   "cell_type": "markdown",
   "metadata": {},
   "source": [
    "Calcule a exponenciação de `x` elevado a `y` e armazene o resultado na variável `resultado_exponenciacao`."
   ]
  },
  {
   "cell_type": "code",
   "execution_count": 27,
   "metadata": {},
   "outputs": [],
   "source": [
    "# sua solução aqui\n",
    "\n",
    "resultado_exponenciacao = x ** y"
   ]
  },
  {
   "cell_type": "markdown",
   "metadata": {},
   "source": [
    "Declare a variável `Celsius` que recebe o valor de 24 ºC. Converta essa temperatura para Fahrenheit e armazene na variavel `fahrenheit`."
   ]
  },
  {
   "cell_type": "code",
   "execution_count": 2,
   "metadata": {},
   "outputs": [
    {
     "name": "stdout",
     "output_type": "stream",
     "text": [
      "32.0\n"
     ]
    }
   ],
   "source": [
    "# Sua solução aqui\n",
    "\n",
    "celsius = 0\n",
    "\n",
    "fahrenheit = (celsius * 9/5) + 32\n"
   ]
  },
  {
   "cell_type": "markdown",
   "metadata": {},
   "source": [
    "Determine a média das notas e atribua o resultado a variavel `media`."
   ]
  },
  {
   "cell_type": "code",
   "execution_count": 5,
   "metadata": {},
   "outputs": [],
   "source": [
    "nota1 = 5\n",
    "nota2 = 8.6\n",
    "nota3 = 9.2\n",
    "# Sua solução aqui\n",
    "\n",
    "media = (nota1 + nota2 + nota3) / 3"
   ]
  },
  {
   "cell_type": "markdown",
   "metadata": {},
   "source": [
    "Declare uma variável chamada `nome_completo` que concatena as variaveis `nome1` e `sobrenome`."
   ]
  },
  {
   "cell_type": "code",
   "execution_count": 7,
   "metadata": {},
   "outputs": [],
   "source": [
    "nome1 = \"João\"\n",
    "sobrenome = \"Silva\"\n",
    "\n",
    "# seu código aqui\n",
    "\n",
    "nome_completo = nome1 + \" \" + sobrenome"
   ]
  },
  {
   "cell_type": "markdown",
   "metadata": {},
   "source": [
    "Escreva o código que remova espaços em branco no início e no final da variavel `materia` e salva na propria variável `materia`"
   ]
  },
  {
   "cell_type": "code",
   "execution_count": 8,
   "metadata": {},
   "outputs": [],
   "source": [
    "materia = \"   Computacional Thinking   \"\n",
    "\n",
    "#Sua resposta aqui\n",
    "\n",
    "materia = materia.strip()  \n"
   ]
  },
  {
   "cell_type": "markdown",
   "metadata": {},
   "source": [
    "Declare uma variável chamada `texto_maiusculo` que converte para maiúsculo o conteúdo da variavel `texto`."
   ]
  },
  {
   "cell_type": "code",
   "execution_count": 13,
   "metadata": {},
   "outputs": [],
   "source": [
    "texto = \"Olá, Mundo!\"\n",
    "\n",
    "# Sua resposta aqui \n",
    "\n",
    "texto_maiusculo = texto.upper()  # Converte para maiúsculas\n"
   ]
  },
  {
   "cell_type": "markdown",
   "metadata": {},
   "source": [
    "Declare uma variável chamada `texto_substituido` que Substitui \"Mundo\" por \"Universo\" da variavel `texto`."
   ]
  },
  {
   "cell_type": "code",
   "execution_count": 28,
   "metadata": {},
   "outputs": [],
   "source": [
    "# sua solução aqui\n",
    "\n",
    "texto_substituido = texto.replace(\"Mundo\", \"Universo\")  # Substitui \"Mundo\" por \"Universo\""
   ]
  },
  {
   "cell_type": "markdown",
   "metadata": {},
   "source": [
    "Converta esse valor `real` para dólares e salve em `dolar` use 2 casas decimais na resposta. Considere que 1 dolar é equivalente 5,23 reais.\n"
   ]
  },
  {
   "cell_type": "code",
   "execution_count": 33,
   "metadata": {},
   "outputs": [],
   "source": [
    "real = 862.78\n",
    "\n",
    "# Sua solução aqui\n",
    "\n",
    "dolar = round(real / 5.23,2)"
   ]
  },
  {
   "cell_type": "markdown",
   "metadata": {},
   "source": [
    "\n",
    "Um móbile de berço de bebê é composto de três hastes como mostrado na figura. Para que ele esteja completamente equilibrado, com todas as hastes na horizontal, os pesos das quatro bolas A, B, C e D têm que satisfazer todas as seguintes três condições:\n",
    "\n",
    "- A = B + C + D; e\n",
    "- B + C = D; e\n",
    "- B = C\n",
    "\n",
    " <img src=\"https://olimpiada.ic.unicamp.br/static/img/task_images/2015f1pj_mobile.png\">\n",
    "\n",
    "Crie a variavel `esta_equilibrado` é do tipo booleana e retorna `true` quando as 4 entradas estão em equilibrio e `false` quando não estão em equilibrio.\n",
    "\n",
    "Dica: a saida será verdadeira para: A = 12; B = 3; C = 3; D = 6.\n"
   ]
  },
  {
   "cell_type": "code",
   "execution_count": 39,
   "metadata": {},
   "outputs": [
    {
     "data": {
      "text/plain": [
       "False"
      ]
     },
     "execution_count": 39,
     "metadata": {},
     "output_type": "execute_result"
    }
   ],
   "source": [
    "\n",
    "# Sua solução aqui\n",
    "\n",
    "esta_equilibrado = ( A == B + C + D ) and (B + C == D) and (B == C)\n",
    "esta_equilibrado"
   ]
  }
 ],
 "metadata": {
  "kernelspec": {
   "display_name": "Python 3",
   "language": "python",
   "name": "python3"
  },
  "language_info": {
   "codemirror_mode": {
    "name": "ipython",
    "version": 3
   },
   "file_extension": ".py",
   "mimetype": "text/x-python",
   "name": "python",
   "nbconvert_exporter": "python",
   "pygments_lexer": "ipython3",
   "version": "3.9.5"
  },
  "orig_nbformat": 4
 },
 "nbformat": 4,
 "nbformat_minor": 2
}
