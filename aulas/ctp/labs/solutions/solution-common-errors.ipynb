{
 "cells": [
  {
   "cell_type": "markdown",
   "id": "bb24e60b",
   "metadata": {},
   "source": [
    "\n",
    "## Solução - Ixiii... Deu Erro! e agora?\n",
    "\n",
    "A Importância de Interpretar Erros no Python\n",
    "\n",
    "Programar é uma atividade desafiadora. Não importa o seu nível de conhecimento, inevitavelmente encontrará erros em seu código. \n",
    "\n",
    "No entanto, esses erros não são simplesmente obstáculos; eles são oportunidades valiosas de aprendizado. Interpretar erros em Python é uma habilidade crucial por várias razões:\n",
    "\n",
    "- ``Diagnóstico Rápido``: Compreender a mensagem de erro acelera o processo de identificação do problema. Em vez de vasculhar linhas e linhas de código, você pode ir direto ao ponto problemático.\n",
    "\n",
    "- ``Desenvolvimento de Solução``: Uma interpretação precisa do erro fornece insights sobre como corrigi-lo. Isso economiza tempo e reduz a ``frustração`` associada à tentativa e erro.\n",
    "\n",
    "- ``Aprendizado Profundo``: Cada erro é uma lição. Ao entender por que um erro ocorreu, você internaliza princípios fundamentais de programação e evita cometer o mesmo erro no futuro.\n",
    "\n",
    "- ``Confiança``: Encarar e superar erros fortalece sua resiliência e confiança como programador. Você se sente mais preparado para enfrentar desafios mais complexos, sabendo que pode decifrar e corrigir problemas que surgirem."
   ]
  },
  {
   "cell_type": "markdown",
   "id": "c7ef980d",
   "metadata": {},
   "source": [
    "## Tipos Comuns de Erros em Python\n",
    "\n",
    "1. ``Erros de Sintaxe (Syntax Errors)``: \n",
    "Estes são os erros mais básicos e geralmente mais fáceis de identificar. Eles ocorrem quando o Python não consegue entender seu código. Pode ser algo simples, como esquecer um ``: ``ao definir uma função ou não fechar um parêntese ``)``. A boa notícia é que o interpretador Python geralmente aponta exatamente onde o erro ocorreu, tornando mais fácil sua correção.\n",
    "\n",
    "2. ``Erros de Runtime (Runtime Errors)``:\n",
    "Estes erros são um pouco mais insidiosos, pois só aparecem quando você executa seu programa. Isso inclui coisas como tentar ``dividir por zero``, tentar acessar um arquivo que não existe, ou ``referenciar uma variável que não foi definida``. Ao contrário dos erros de sintaxe, os erros de runtime podem não ser tão diretos para identificar, pois podem depender de condições específicas dentro do programa.\n",
    "\n",
    "3. ``Erros Semânticos (Semantic Errors)``:\n",
    "Estes são os mais desafiadores de todos. Seu programa é executado sem erros visíveis e não retorna nenhuma mensagem de erro. No entanto, ele não faz o que você esperava. O desafio aqui é que o interpretador Python não pode ajudá-lo, pois tecnicamente, tudo está \"correto\". Estes erros exigem uma análise profunda da lógica e do fluxo do programa. A depuração passo a passo e a revisão do código são ferramentas valiosas para identificar onde as coisas deram errado."
   ]
  },
  {
   "cell_type": "markdown",
   "id": "3b838f7f",
   "metadata": {},
   "source": [
    "### Vamos praticar um pouco"
   ]
  },
  {
   "cell_type": "code",
   "execution_count": 1,
   "id": "dab46f23",
   "metadata": {},
   "outputs": [
    {
     "ename": "SyntaxError",
     "evalue": "EOL while scanning string literal (<ipython-input-1-15a41a3ccf62>, line 1)",
     "output_type": "error",
     "traceback": [
      "\u001b[1;36m  File \u001b[1;32m\"<ipython-input-1-15a41a3ccf62>\"\u001b[1;36m, line \u001b[1;32m1\u001b[0m\n\u001b[1;33m    print('Olá, mundo!\")\u001b[0m\n\u001b[1;37m                        ^\u001b[0m\n\u001b[1;31mSyntaxError\u001b[0m\u001b[1;31m:\u001b[0m EOL while scanning string literal\n"
     ]
    }
   ],
   "source": [
    "print('Olá, mundo!\")"
   ]
  },
  {
   "cell_type": "code",
   "execution_count": 2,
   "id": "6a438312",
   "metadata": {},
   "outputs": [
    {
     "name": "stdout",
     "output_type": "stream",
     "text": [
      "Olá, mundo!\n",
      "Olá, mundo!\n"
     ]
    }
   ],
   "source": [
    "# Solução\n",
    "print(\"Olá, mundo!\")\n",
    "print('Olá, mundo!')"
   ]
  },
  {
   "cell_type": "code",
   "execution_count": 3,
   "id": "599f15d9",
   "metadata": {},
   "outputs": [
    {
     "ename": "SyntaxError",
     "evalue": "unexpected EOF while parsing (<ipython-input-3-da27efeb691f>, line 1)",
     "output_type": "error",
     "traceback": [
      "\u001b[1;36m  File \u001b[1;32m\"<ipython-input-3-da27efeb691f>\"\u001b[1;36m, line \u001b[1;32m1\u001b[0m\n\u001b[1;33m    print(\"Olá mundo\"\u001b[0m\n\u001b[1;37m                     ^\u001b[0m\n\u001b[1;31mSyntaxError\u001b[0m\u001b[1;31m:\u001b[0m unexpected EOF while parsing\n"
     ]
    }
   ],
   "source": [
    "print(\"Olá mundo\""
   ]
  },
  {
   "cell_type": "code",
   "execution_count": 4,
   "id": "2a1e42c0",
   "metadata": {},
   "outputs": [
    {
     "name": "stdout",
     "output_type": "stream",
     "text": [
      "Olá, mundo!\n"
     ]
    }
   ],
   "source": [
    "# Solução\n",
    "print(\"Olá, mundo!\")"
   ]
  },
  {
   "cell_type": "code",
   "execution_count": 5,
   "id": "797d2d87",
   "metadata": {},
   "outputs": [
    {
     "ename": "SyntaxError",
     "evalue": "invalid syntax (<ipython-input-5-c269be13d752>, line 1)",
     "output_type": "error",
     "traceback": [
      "\u001b[1;36m  File \u001b[1;32m\"<ipython-input-5-c269be13d752>\"\u001b[1;36m, line \u001b[1;32m1\u001b[0m\n\u001b[1;33m    7casas = 4\u001b[0m\n\u001b[1;37m     ^\u001b[0m\n\u001b[1;31mSyntaxError\u001b[0m\u001b[1;31m:\u001b[0m invalid syntax\n"
     ]
    }
   ],
   "source": [
    "7casas = 4"
   ]
  },
  {
   "cell_type": "code",
   "execution_count": 9,
   "id": "9db200b9",
   "metadata": {},
   "outputs": [],
   "source": [
    "# Solução\n",
    "sete_casas = 4\n",
    "seteCasas = 4  ## Camel case\n",
    "sete7casas = 4\n",
    "casa = 1"
   ]
  },
  {
   "cell_type": "code",
   "execution_count": 11,
   "id": "201e97b7",
   "metadata": {},
   "outputs": [
    {
     "data": {
      "text/plain": [
       "''"
      ]
     },
     "execution_count": 11,
     "metadata": {},
     "output_type": "execute_result"
    }
   ],
   "source": [
    "str(input(\"digite o primeiro numero\")"
   ]
  },
  {
   "cell_type": "code",
   "execution_count": 12,
   "id": "776bd8a8",
   "metadata": {},
   "outputs": [
    {
     "data": {
      "text/plain": [
       "'0'"
      ]
     },
     "execution_count": 12,
     "metadata": {},
     "output_type": "execute_result"
    }
   ],
   "source": [
    "# Solução\n",
    "str(input(\"digite o primeiro numero\"))"
   ]
  },
  {
   "cell_type": "code",
   "execution_count": 13,
   "id": "63f007d0",
   "metadata": {},
   "outputs": [
    {
     "name": "stdout",
     "output_type": "stream",
     "text": [
      "53\n"
     ]
    }
   ],
   "source": [
    "a = str(input(\"digite o primeiro numero\")) # 3\n",
    "b = str(input(\"digite o segundo numero\")) # 3\n",
    "print(a+b) ## concatenando dois valores "
   ]
  },
  {
   "cell_type": "code",
   "execution_count": null,
   "id": "9d14ca17",
   "metadata": {},
   "outputs": [],
   "source": [
    "# solução\n",
    "\n",
    "a = float(input(\"digite o primeiro numero (real)\")) # 3\n",
    "b = int(input(\"digite o segundo numero (inteiro)\")) # 3\n",
    "print(a+b) ## concatenando dois valores \n",
    "\n",
    "\n",
    "# solução2\n",
    "\n",
    "a = str(input(\"digite o primeiro numero (real)\")) # 3\n",
    "b = str(input(\"digite o segundo numero (inteiro)\")) # 3\n",
    "print(int(a)+float(b)) ## concatenando dois valores "
   ]
  },
  {
   "cell_type": "code",
   "execution_count": 14,
   "id": "dbe16236",
   "metadata": {},
   "outputs": [
    {
     "ename": "SyntaxError",
     "evalue": "invalid syntax (<ipython-input-14-af16dcebc17d>, line 1)",
     "output_type": "error",
     "traceback": [
      "\u001b[1;36m  File \u001b[1;32m\"<ipython-input-14-af16dcebc17d>\"\u001b[1;36m, line \u001b[1;32m1\u001b[0m\n\u001b[1;33m    def minha_funcao()\u001b[0m\n\u001b[1;37m                      ^\u001b[0m\n\u001b[1;31mSyntaxError\u001b[0m\u001b[1;31m:\u001b[0m invalid syntax\n"
     ]
    }
   ],
   "source": [
    "def minha_funcao()\n",
    "    return \"Olá, mundo!\""
   ]
  },
  {
   "cell_type": "code",
   "execution_count": 18,
   "id": "29d81ccd",
   "metadata": {},
   "outputs": [
    {
     "name": "stdout",
     "output_type": "stream",
     "text": [
      "Olá, mundo!\n"
     ]
    }
   ],
   "source": [
    "# Solução\n",
    "\n",
    "### função \n",
    "# def nome_da_funcao():\n",
    "\n",
    "def minha_funcao():\n",
    "    return \"Olá, mundo!\"\n",
    "\n",
    "\n",
    "resultado = minha_funcao()  ### estou chamando a minha função\n",
    "print(resultado)"
   ]
  },
  {
   "cell_type": "code",
   "execution_count": 19,
   "id": "f52918ac",
   "metadata": {},
   "outputs": [
    {
     "ename": "SyntaxError",
     "evalue": "invalid syntax (<ipython-input-19-274b47e24894>, line 2)",
     "output_type": "error",
     "traceback": [
      "\u001b[1;36m  File \u001b[1;32m\"<ipython-input-19-274b47e24894>\"\u001b[1;36m, line \u001b[1;32m2\u001b[0m\n\u001b[1;33m    if idade = 18:\u001b[0m\n\u001b[1;37m             ^\u001b[0m\n\u001b[1;31mSyntaxError\u001b[0m\u001b[1;31m:\u001b[0m invalid syntax\n"
     ]
    }
   ],
   "source": [
    "idade = 18\n",
    "if idade = 18:\n",
    "    print(\"Maior de idade\")"
   ]
  },
  {
   "cell_type": "code",
   "execution_count": 21,
   "id": "653bb8cc",
   "metadata": {},
   "outputs": [
    {
     "name": "stdout",
     "output_type": "stream",
     "text": [
      "Maior de idade\n"
     ]
    }
   ],
   "source": [
    "# Solução\n",
    "\n",
    "idade = 18   ##### = é uma atribuição,  a variavel idade recebe o valor 18\n",
    "if idade == 18:      ###   ==  é a forma de fazer comparação, verdadeiro ou falso\n",
    "    print(\"Maior de idade\")\n"
   ]
  },
  {
   "cell_type": "code",
   "execution_count": 26,
   "id": "96c82f81",
   "metadata": {},
   "outputs": [
    {
     "ename": "IndentationError",
     "evalue": "expected an indented block (<ipython-input-26-3ca3bbbc0d2b>, line 2)",
     "output_type": "error",
     "traceback": [
      "\u001b[1;36m  File \u001b[1;32m\"<ipython-input-26-3ca3bbbc0d2b>\"\u001b[1;36m, line \u001b[1;32m2\u001b[0m\n\u001b[1;33m    print(\"Olá!\")\u001b[0m\n\u001b[1;37m    ^\u001b[0m\n\u001b[1;31mIndentationError\u001b[0m\u001b[1;31m:\u001b[0m expected an indented block\n"
     ]
    }
   ],
   "source": [
    "def saudacao():\n",
    "print(\"Olá!\")"
   ]
  },
  {
   "cell_type": "code",
   "execution_count": 27,
   "id": "a91fdcc5",
   "metadata": {},
   "outputs": [],
   "source": [
    "# Solução\n",
    "\n",
    "def saudacao():\n",
    "    print(\"Olá!\")"
   ]
  },
  {
   "cell_type": "code",
   "execution_count": 28,
   "id": "c8942ca4",
   "metadata": {},
   "outputs": [
    {
     "ename": "NameError",
     "evalue": "name 'Nome' is not defined",
     "output_type": "error",
     "traceback": [
      "\u001b[1;31m---------------------------------------------------------------------------\u001b[0m",
      "\u001b[1;31mNameError\u001b[0m                                 Traceback (most recent call last)",
      "\u001b[1;32m<ipython-input-28-0a0afa2a6809>\u001b[0m in \u001b[0;36m<module>\u001b[1;34m\u001b[0m\n\u001b[0;32m      1\u001b[0m \u001b[0mnome\u001b[0m \u001b[1;33m=\u001b[0m \u001b[1;34m\"João\"\u001b[0m\u001b[1;33m\u001b[0m\u001b[1;33m\u001b[0m\u001b[0m\n\u001b[1;32m----> 2\u001b[1;33m \u001b[0mprint\u001b[0m\u001b[1;33m(\u001b[0m\u001b[0mNome\u001b[0m\u001b[1;33m)\u001b[0m\u001b[1;33m\u001b[0m\u001b[1;33m\u001b[0m\u001b[0m\n\u001b[0m",
      "\u001b[1;31mNameError\u001b[0m: name 'Nome' is not defined"
     ]
    }
   ],
   "source": [
    "nome = \"João\"\n",
    "print(Nome)"
   ]
  },
  {
   "cell_type": "code",
   "execution_count": 29,
   "id": "1249648c",
   "metadata": {},
   "outputs": [
    {
     "name": "stdout",
     "output_type": "stream",
     "text": [
      "Silva\n"
     ]
    }
   ],
   "source": [
    "# Solução\n",
    "\n",
    "nome = \"João\"\n",
    "Nome = \"Silva\"\n",
    "NoMe = 3\n",
    "\n",
    "\n",
    "print(Nome) ###  Case sensitive"
   ]
  },
  {
   "cell_type": "code",
   "execution_count": 30,
   "id": "dd5fd6fb",
   "metadata": {},
   "outputs": [
    {
     "ename": "TypeError",
     "evalue": "can only concatenate str (not \"int\") to str",
     "output_type": "error",
     "traceback": [
      "\u001b[1;31m---------------------------------------------------------------------------\u001b[0m",
      "\u001b[1;31mTypeError\u001b[0m                                 Traceback (most recent call last)",
      "\u001b[1;32m<ipython-input-30-021ee738685d>\u001b[0m in \u001b[0;36m<module>\u001b[1;34m\u001b[0m\n\u001b[0;32m      1\u001b[0m \u001b[0midade\u001b[0m \u001b[1;33m=\u001b[0m \u001b[1;34m\"25\"\u001b[0m\u001b[1;33m\u001b[0m\u001b[1;33m\u001b[0m\u001b[0m\n\u001b[1;32m----> 2\u001b[1;33m \u001b[0mtotal\u001b[0m \u001b[1;33m=\u001b[0m \u001b[0midade\u001b[0m \u001b[1;33m+\u001b[0m \u001b[1;36m5\u001b[0m\u001b[1;33m\u001b[0m\u001b[1;33m\u001b[0m\u001b[0m\n\u001b[0m",
      "\u001b[1;31mTypeError\u001b[0m: can only concatenate str (not \"int\") to str"
     ]
    }
   ],
   "source": [
    "idade = \"25\"\n",
    "total = idade + 5"
   ]
  },
  {
   "cell_type": "code",
   "execution_count": 32,
   "id": "8222c80c",
   "metadata": {},
   "outputs": [
    {
     "name": "stdout",
     "output_type": "stream",
     "text": [
      "30\n"
     ]
    }
   ],
   "source": [
    "# Solução\n",
    "\n",
    "idade = 25\n",
    "total = idade + 5\n",
    "print(total)"
   ]
  },
  {
   "cell_type": "code",
   "execution_count": 38,
   "id": "151d8e54",
   "metadata": {},
   "outputs": [
    {
     "ename": "ValueError",
     "evalue": "invalid literal for int() with base 10: '25.4'",
     "output_type": "error",
     "traceback": [
      "\u001b[1;31m---------------------------------------------------------------------------\u001b[0m",
      "\u001b[1;31mValueError\u001b[0m                                Traceback (most recent call last)",
      "\u001b[1;32m<ipython-input-38-9c96686f2c74>\u001b[0m in \u001b[0;36m<module>\u001b[1;34m\u001b[0m\n\u001b[0;32m      2\u001b[0m \u001b[1;33m\u001b[0m\u001b[0m\n\u001b[0;32m      3\u001b[0m \u001b[0midade\u001b[0m \u001b[1;33m=\u001b[0m \u001b[1;34m\"25.4\"\u001b[0m\u001b[1;33m\u001b[0m\u001b[1;33m\u001b[0m\u001b[0m\n\u001b[1;32m----> 4\u001b[1;33m \u001b[0mtotal\u001b[0m \u001b[1;33m=\u001b[0m \u001b[0mint\u001b[0m\u001b[1;33m(\u001b[0m\u001b[0midade\u001b[0m\u001b[1;33m)\u001b[0m \u001b[1;33m+\u001b[0m \u001b[1;36m5\u001b[0m\u001b[1;33m\u001b[0m\u001b[1;33m\u001b[0m\u001b[0m\n\u001b[0m\u001b[0;32m      5\u001b[0m \u001b[0mprint\u001b[0m\u001b[1;33m(\u001b[0m\u001b[0mtotal\u001b[0m\u001b[1;33m)\u001b[0m\u001b[1;33m\u001b[0m\u001b[1;33m\u001b[0m\u001b[0m\n",
      "\u001b[1;31mValueError\u001b[0m: invalid literal for int() with base 10: '25.4'"
     ]
    }
   ],
   "source": [
    "#solução2 com erro\n",
    "\n",
    "idade = \"25.4\"  #### esse numero é real \n",
    "total = int(idade) + 5 ### numero real não pertence aos inteiros\n",
    "print(total)"
   ]
  },
  {
   "cell_type": "code",
   "execution_count": 39,
   "id": "269ab74f",
   "metadata": {},
   "outputs": [
    {
     "name": "stdout",
     "output_type": "stream",
     "text": [
      "30.4\n"
     ]
    }
   ],
   "source": [
    "#solução2 corrigido\n",
    "\n",
    "idade = \"25.4\"  #### esse numero é real \n",
    "total = float(idade) + 5 ### numero real não pertence aos inteiros\n",
    "print(total)"
   ]
  },
  {
   "cell_type": "code",
   "execution_count": 40,
   "id": "46cb421b",
   "metadata": {},
   "outputs": [
    {
     "ename": "ZeroDivisionError",
     "evalue": "division by zero",
     "output_type": "error",
     "traceback": [
      "\u001b[1;31m---------------------------------------------------------------------------\u001b[0m",
      "\u001b[1;31mZeroDivisionError\u001b[0m                         Traceback (most recent call last)",
      "\u001b[1;32m<ipython-input-40-605c3bec262d>\u001b[0m in \u001b[0;36m<module>\u001b[1;34m\u001b[0m\n\u001b[1;32m----> 1\u001b[1;33m \u001b[0mresultado\u001b[0m \u001b[1;33m=\u001b[0m \u001b[1;36m10\u001b[0m \u001b[1;33m/\u001b[0m \u001b[1;36m0\u001b[0m\u001b[1;33m\u001b[0m\u001b[1;33m\u001b[0m\u001b[0m\n\u001b[0m",
      "\u001b[1;31mZeroDivisionError\u001b[0m: division by zero"
     ]
    }
   ],
   "source": [
    "resultado = 10 / 0"
   ]
  },
  {
   "cell_type": "code",
   "execution_count": 41,
   "id": "481010d8",
   "metadata": {},
   "outputs": [],
   "source": [
    "# Solução\n",
    "\n",
    "resultado = 10 / 0.0000001\n",
    "\n"
   ]
  },
  {
   "cell_type": "code",
   "execution_count": 42,
   "id": "87a7859c",
   "metadata": {},
   "outputs": [
    {
     "ename": "ModuleNotFoundError",
     "evalue": "No module named 'mathh'",
     "output_type": "error",
     "traceback": [
      "\u001b[1;31m---------------------------------------------------------------------------\u001b[0m",
      "\u001b[1;31mModuleNotFoundError\u001b[0m                       Traceback (most recent call last)",
      "\u001b[1;32m<ipython-input-42-dafd3c5d3188>\u001b[0m in \u001b[0;36m<module>\u001b[1;34m\u001b[0m\n\u001b[1;32m----> 1\u001b[1;33m \u001b[1;32mimport\u001b[0m \u001b[0mmathh\u001b[0m\u001b[1;33m\u001b[0m\u001b[1;33m\u001b[0m\u001b[0m\n\u001b[0m",
      "\u001b[1;31mModuleNotFoundError\u001b[0m: No module named 'mathh'"
     ]
    }
   ],
   "source": [
    "import mathh"
   ]
  },
  {
   "cell_type": "code",
   "execution_count": 47,
   "id": "e30833cf",
   "metadata": {},
   "outputs": [],
   "source": [
    "# Solução\n",
    "import math\n",
    "import pandas\n",
    "import pandas as pd\n",
    " \n"
   ]
  },
  {
   "cell_type": "code",
   "execution_count": 50,
   "id": "0fec1741",
   "metadata": {},
   "outputs": [
    {
     "ename": "TypeError",
     "evalue": "somar() missing 1 required positional argument: 'b'",
     "output_type": "error",
     "traceback": [
      "\u001b[1;31m---------------------------------------------------------------------------\u001b[0m",
      "\u001b[1;31mTypeError\u001b[0m                                 Traceback (most recent call last)",
      "\u001b[1;32m<ipython-input-50-072ac009b981>\u001b[0m in \u001b[0;36m<module>\u001b[1;34m\u001b[0m\n\u001b[0;32m      2\u001b[0m     \u001b[1;32mreturn\u001b[0m \u001b[0ma\u001b[0m \u001b[1;33m+\u001b[0m \u001b[0mb\u001b[0m\u001b[1;33m\u001b[0m\u001b[1;33m\u001b[0m\u001b[0m\n\u001b[0;32m      3\u001b[0m \u001b[1;33m\u001b[0m\u001b[0m\n\u001b[1;32m----> 4\u001b[1;33m \u001b[0mresultado\u001b[0m \u001b[1;33m=\u001b[0m \u001b[0msomar\u001b[0m\u001b[1;33m(\u001b[0m\u001b[1;36m5\u001b[0m\u001b[1;33m)\u001b[0m\u001b[1;33m\u001b[0m\u001b[1;33m\u001b[0m\u001b[0m\n\u001b[0m",
      "\u001b[1;31mTypeError\u001b[0m: somar() missing 1 required positional argument: 'b'"
     ]
    }
   ],
   "source": [
    "def somar(a, b):\n",
    "    return a + b\n",
    "\n",
    "resultado = somar(5)"
   ]
  },
  {
   "cell_type": "code",
   "execution_count": 51,
   "id": "5ff2cac2",
   "metadata": {},
   "outputs": [],
   "source": [
    "# Solução\n",
    "def somar(a, b):\n",
    "    return a + b\n",
    "\n",
    "resultado = somar(5,5)"
   ]
  },
  {
   "cell_type": "code",
   "execution_count": 54,
   "id": "39d9a01f",
   "metadata": {},
   "outputs": [
    {
     "ename": "ValueError",
     "evalue": "invalid literal for int() with base 10: 'python'",
     "output_type": "error",
     "traceback": [
      "\u001b[1;31m---------------------------------------------------------------------------\u001b[0m",
      "\u001b[1;31mValueError\u001b[0m                                Traceback (most recent call last)",
      "\u001b[1;32m<ipython-input-54-9ae652162590>\u001b[0m in \u001b[0;36m<module>\u001b[1;34m\u001b[0m\n\u001b[1;32m----> 1\u001b[1;33m \u001b[0mint\u001b[0m\u001b[1;33m(\u001b[0m\u001b[1;34m\"python\"\u001b[0m\u001b[1;33m)\u001b[0m\u001b[1;33m\u001b[0m\u001b[1;33m\u001b[0m\u001b[0m\n\u001b[0m",
      "\u001b[1;31mValueError\u001b[0m: invalid literal for int() with base 10: 'python'"
     ]
    }
   ],
   "source": [
    "int(\"python\")"
   ]
  },
  {
   "cell_type": "code",
   "execution_count": 55,
   "id": "451d9045",
   "metadata": {},
   "outputs": [
    {
     "data": {
      "text/plain": [
       "'python'"
      ]
     },
     "execution_count": 55,
     "metadata": {},
     "output_type": "execute_result"
    }
   ],
   "source": [
    "# Solução\n",
    "\n",
    "\"python\""
   ]
  },
  {
   "cell_type": "code",
   "execution_count": 56,
   "id": "ddb2d8b2",
   "metadata": {},
   "outputs": [
    {
     "ename": "TypeError",
     "evalue": "can only concatenate str (not \"int\") to str",
     "output_type": "error",
     "traceback": [
      "\u001b[1;31m---------------------------------------------------------------------------\u001b[0m",
      "\u001b[1;31mTypeError\u001b[0m                                 Traceback (most recent call last)",
      "\u001b[1;32m<ipython-input-56-07d6225f6874>\u001b[0m in \u001b[0;36m<module>\u001b[1;34m\u001b[0m\n\u001b[0;32m      1\u001b[0m \u001b[0midade\u001b[0m \u001b[1;33m=\u001b[0m \u001b[1;36m25\u001b[0m\u001b[1;33m\u001b[0m\u001b[1;33m\u001b[0m\u001b[0m\n\u001b[1;32m----> 2\u001b[1;33m \u001b[0mprint\u001b[0m\u001b[1;33m(\u001b[0m\u001b[1;34m\"Minha idade é: \"\u001b[0m \u001b[1;33m+\u001b[0m \u001b[0midade\u001b[0m\u001b[1;33m)\u001b[0m\u001b[1;33m\u001b[0m\u001b[1;33m\u001b[0m\u001b[0m\n\u001b[0m",
      "\u001b[1;31mTypeError\u001b[0m: can only concatenate str (not \"int\") to str"
     ]
    }
   ],
   "source": [
    "idade = 25\n",
    "print(\"Minha idade é: \" + idade)"
   ]
  },
  {
   "cell_type": "code",
   "execution_count": 59,
   "id": "8370a291",
   "metadata": {},
   "outputs": [
    {
     "name": "stdout",
     "output_type": "stream",
     "text": [
      "Minha idade é: 25\n",
      "Minha idade é: 25\n"
     ]
    }
   ],
   "source": [
    "# Solução\n",
    "\n",
    "idade = 25\n",
    "print(f\"Minha idade é: {idade}\")  ### f\"   {variavel}  \" dentro de chaves\n",
    "print(\"Minha idade é:\",idade) "
   ]
  },
  {
   "cell_type": "code",
   "execution_count": 58,
   "id": "448523b7",
   "metadata": {},
   "outputs": [
    {
     "ename": "NameError",
     "evalue": "name 'multiplica' is not defined",
     "output_type": "error",
     "traceback": [
      "\u001b[1;31m---------------------------------------------------------------------------\u001b[0m",
      "\u001b[1;31mNameError\u001b[0m                                 Traceback (most recent call last)",
      "\u001b[1;32m<ipython-input-58-205222be5016>\u001b[0m in \u001b[0;36m<module>\u001b[1;34m\u001b[0m\n\u001b[1;32m----> 1\u001b[1;33m \u001b[0mresultado\u001b[0m \u001b[1;33m=\u001b[0m \u001b[0mmultiplica\u001b[0m\u001b[1;33m(\u001b[0m\u001b[1;36m5\u001b[0m\u001b[1;33m,\u001b[0m \u001b[1;36m2\u001b[0m\u001b[1;33m)\u001b[0m\u001b[1;33m\u001b[0m\u001b[1;33m\u001b[0m\u001b[0m\n\u001b[0m",
      "\u001b[1;31mNameError\u001b[0m: name 'multiplica' is not defined"
     ]
    }
   ],
   "source": [
    "resultado = multiplica(5, 2)"
   ]
  },
  {
   "cell_type": "code",
   "execution_count": 77,
   "id": "8fb6d9e1",
   "metadata": {},
   "outputs": [
    {
     "name": "stdout",
     "output_type": "stream",
     "text": [
      "30\n"
     ]
    }
   ],
   "source": [
    "# Solução\n",
    "def multiplica(pedro,jose):\n",
    "    return pedro * jose      #### * representa multiplicação\n",
    "\n",
    "\n",
    "resultado = multiplica(5, 6)\n",
    "\n",
    "print(resultado)"
   ]
  },
  {
   "cell_type": "code",
   "execution_count": 62,
   "id": "b890bc08",
   "metadata": {},
   "outputs": [
    {
     "ename": "SyntaxError",
     "evalue": "invalid syntax (<ipython-input-62-53b9abc9acb8>, line 1)",
     "output_type": "error",
     "traceback": [
      "\u001b[1;36m  File \u001b[1;32m\"<ipython-input-62-53b9abc9acb8>\"\u001b[1;36m, line \u001b[1;32m1\u001b[0m\n\u001b[1;33m    soma(a, b):\u001b[0m\n\u001b[1;37m               ^\u001b[0m\n\u001b[1;31mSyntaxError\u001b[0m\u001b[1;31m:\u001b[0m invalid syntax\n"
     ]
    }
   ],
   "source": [
    "soma(a, b):\n",
    "    return a + b"
   ]
  },
  {
   "cell_type": "code",
   "execution_count": 63,
   "id": "a13f396a",
   "metadata": {},
   "outputs": [],
   "source": [
    "# Solução: Esquecer de definir uma função com def\n",
    "\n",
    "def soma(a, b):\n",
    "    return a + b\n"
   ]
  },
  {
   "cell_type": "code",
   "execution_count": 66,
   "id": "e1f1881e",
   "metadata": {},
   "outputs": [
    {
     "ename": "SyntaxError",
     "evalue": "invalid syntax (<ipython-input-66-038a56fc766c>, line 2)",
     "output_type": "error",
     "traceback": [
      "\u001b[1;36m  File \u001b[1;32m\"<ipython-input-66-038a56fc766c>\"\u001b[1;36m, line \u001b[1;32m2\u001b[0m\n\u001b[1;33m    if idade = 18:\u001b[0m\n\u001b[1;37m             ^\u001b[0m\n\u001b[1;31mSyntaxError\u001b[0m\u001b[1;31m:\u001b[0m invalid syntax\n"
     ]
    }
   ],
   "source": [
    "idade = 18\n",
    "if idade = 18:\n",
    "    idade = 12\n",
    "print(f\"Você tem {idade} anos.\")"
   ]
  },
  {
   "cell_type": "code",
   "execution_count": 70,
   "id": "803dfab1",
   "metadata": {},
   "outputs": [
    {
     "name": "stdout",
     "output_type": "stream",
     "text": [
      "Você tem 12 anos.\n"
     ]
    }
   ],
   "source": [
    "# solução: Esquecer o operador de comparação em uma estrutura condicional\n",
    "\n",
    "idade = 18\n",
    "if idade == 18:\n",
    "    idade = 12\n",
    "    \n",
    "print(f\"Você tem {idade} anos.\")\n",
    "\n"
   ]
  },
  {
   "cell_type": "code",
   "execution_count": 53,
   "id": "0ff5996e",
   "metadata": {},
   "outputs": [
    {
     "ename": "SyntaxError",
     "evalue": "invalid syntax (<ipython-input-53-59ec2c2e20de>, line 2)",
     "output_type": "error",
     "traceback": [
      "\u001b[1;36m  File \u001b[1;32m\"<ipython-input-53-59ec2c2e20de>\"\u001b[1;36m, line \u001b[1;32m2\u001b[0m\n\u001b[1;33m    if valor = 10:\u001b[0m\n\u001b[1;37m             ^\u001b[0m\n\u001b[1;31mSyntaxError\u001b[0m\u001b[1;31m:\u001b[0m invalid syntax\n"
     ]
    }
   ],
   "source": [
    "valor = 5\n",
    "if valor = 10:\n",
    "    valor = 20"
   ]
  },
  {
   "cell_type": "code",
   "execution_count": 71,
   "id": "42616505",
   "metadata": {},
   "outputs": [],
   "source": [
    "# solução: Erro de operador de atribuição em vez de comparação\n",
    "\n",
    "valor = 5\n",
    "if valor == 10:\n",
    "    valor = 20"
   ]
  },
  {
   "cell_type": "code",
   "execution_count": 78,
   "id": "c7d7a9ed",
   "metadata": {},
   "outputs": [
    {
     "name": "stdout",
     "output_type": "stream",
     "text": [
      "None\n",
      "30\n"
     ]
    }
   ],
   "source": [
    "def soma(a, b):\n",
    "    resultado = a + b\n",
    "\n",
    "print(soma(5, 3))\n",
    "print(resultado)"
   ]
  },
  {
   "cell_type": "code",
   "execution_count": 81,
   "id": "dfe3e5cd",
   "metadata": {},
   "outputs": [
    {
     "name": "stdout",
     "output_type": "stream",
     "text": [
      "resultado da função 8\n",
      "8\n",
      "resultado fora da função: 30\n"
     ]
    }
   ],
   "source": [
    "# solução \n",
    "\n",
    "def soma(a, b):\n",
    "    resultado = a + b\n",
    "    print(f\"resultado da função {resultado}\")\n",
    "    return resultado\n",
    "\n",
    "print(soma(5, 3))\n",
    "print(f\"resultado fora da função: {resultado}\")\n",
    "\n"
   ]
  },
  {
   "cell_type": "code",
   "execution_count": 82,
   "id": "a618c94c",
   "metadata": {},
   "outputs": [
    {
     "ename": "NameError",
     "evalue": "name 'add' is not defined",
     "output_type": "error",
     "traceback": [
      "\u001b[1;31m---------------------------------------------------------------------------\u001b[0m",
      "\u001b[1;31mNameError\u001b[0m                                 Traceback (most recent call last)",
      "\u001b[1;32m<ipython-input-82-e57a47ae4057>\u001b[0m in \u001b[0;36m<module>\u001b[1;34m\u001b[0m\n\u001b[1;32m----> 1\u001b[1;33m \u001b[1;32mif\u001b[0m \u001b[0madd\u001b[0m \u001b[1;33m==\u001b[0m \u001b[1;36m2\u001b[0m\u001b[1;33m:\u001b[0m\u001b[1;33m\u001b[0m\u001b[1;33m\u001b[0m\u001b[0m\n\u001b[0m\u001b[0;32m      2\u001b[0m     \u001b[0madd\u001b[0m \u001b[1;33m+=\u001b[0m \u001b[0mi\u001b[0m\u001b[1;33m\u001b[0m\u001b[1;33m\u001b[0m\u001b[0m\n",
      "\u001b[1;31mNameError\u001b[0m: name 'add' is not defined"
     ]
    }
   ],
   "source": [
    "if add == 2:\n",
    "    add += i"
   ]
  },
  {
   "cell_type": "code",
   "execution_count": 84,
   "id": "83aa00cc",
   "metadata": {},
   "outputs": [
    {
     "name": "stdout",
     "output_type": "stream",
     "text": [
      "3\n"
     ]
    }
   ],
   "source": [
    "# solução: Esquecer de iniciar uma variável antes de usá-la \n",
    "\n",
    "add = 2\n",
    "i = 1\n",
    "if add == 2:\n",
    "    add += i   #### add = add + i    C (add++)\n",
    "    print(add)"
   ]
  },
  {
   "cell_type": "code",
   "execution_count": 24,
   "id": "61f868b7",
   "metadata": {},
   "outputs": [
    {
     "ename": "ZeroDivisionError",
     "evalue": "integer division or modulo by zero",
     "output_type": "error",
     "traceback": [
      "\u001b[1;31m---------------------------------------------------------------------------\u001b[0m",
      "\u001b[1;31mZeroDivisionError\u001b[0m                         Traceback (most recent call last)",
      "\u001b[1;32m<ipython-input-24-8f7f0e98b1d2>\u001b[0m in \u001b[0;36m<module>\u001b[1;34m\u001b[0m\n\u001b[1;32m----> 1\u001b[1;33m \u001b[0mresto\u001b[0m \u001b[1;33m=\u001b[0m \u001b[1;36m10\u001b[0m \u001b[1;33m%\u001b[0m \u001b[1;36m0\u001b[0m\u001b[1;33m\u001b[0m\u001b[1;33m\u001b[0m\u001b[0m\n\u001b[0m",
      "\u001b[1;31mZeroDivisionError\u001b[0m: integer division or modulo by zero"
     ]
    }
   ],
   "source": [
    "resto = 10 % 0"
   ]
  },
  {
   "cell_type": "code",
   "execution_count": null,
   "id": "ddeb7541",
   "metadata": {},
   "outputs": [],
   "source": [
    "# solução:"
   ]
  },
  {
   "cell_type": "code",
   "execution_count": 64,
   "id": "e850bbfd",
   "metadata": {},
   "outputs": [
    {
     "ename": "ZeroDivisionError",
     "evalue": "division by zero",
     "output_type": "error",
     "traceback": [
      "\u001b[1;31m---------------------------------------------------------------------------\u001b[0m",
      "\u001b[1;31mZeroDivisionError\u001b[0m                         Traceback (most recent call last)",
      "\u001b[1;32m<ipython-input-64-e574edb36883>\u001b[0m in \u001b[0;36m<module>\u001b[1;34m\u001b[0m\n\u001b[1;32m----> 1\u001b[1;33m \u001b[1;36m10\u001b[0m\u001b[1;33m/\u001b[0m\u001b[1;36m0\u001b[0m\u001b[1;33m\u001b[0m\u001b[1;33m\u001b[0m\u001b[0m\n\u001b[0m",
      "\u001b[1;31mZeroDivisionError\u001b[0m: division by zero"
     ]
    }
   ],
   "source": [
    "10/0"
   ]
  },
  {
   "cell_type": "code",
   "execution_count": null,
   "id": "a319e8e4",
   "metadata": {},
   "outputs": [],
   "source": [
    "# solução:\n"
   ]
  },
  {
   "cell_type": "code",
   "execution_count": 85,
   "id": "8e7e0917",
   "metadata": {},
   "outputs": [
    {
     "ename": "SyntaxError",
     "evalue": "invalid syntax (<ipython-input-85-8515e9477153>, line 2)",
     "output_type": "error",
     "traceback": [
      "\u001b[1;36m  File \u001b[1;32m\"<ipython-input-85-8515e9477153>\"\u001b[1;36m, line \u001b[1;32m2\u001b[0m\n\u001b[1;33m    return a = b\u001b[0m\n\u001b[1;37m             ^\u001b[0m\n\u001b[1;31mSyntaxError\u001b[0m\u001b[1;31m:\u001b[0m invalid syntax\n"
     ]
    }
   ],
   "source": [
    "def verificar_igualdade(a, b):\n",
    "    return a = b\n",
    "\n",
    "verificar_igualdade(2, 3)\n",
    " "
   ]
  },
  {
   "cell_type": "code",
   "execution_count": 86,
   "id": "3773c5c6",
   "metadata": {},
   "outputs": [
    {
     "data": {
      "text/plain": [
       "False"
      ]
     },
     "execution_count": 86,
     "metadata": {},
     "output_type": "execute_result"
    }
   ],
   "source": [
    "# solução \n",
    "\n",
    "def verificar_igualdade(a, b):\n",
    "    return a == b\n",
    "\n",
    "verificar_igualdade(2, 3)"
   ]
  },
  {
   "cell_type": "code",
   "execution_count": 70,
   "id": "ad2e237a",
   "metadata": {},
   "outputs": [
    {
     "data": {
      "text/plain": [
       "5.333333333333333"
      ]
     },
     "execution_count": 70,
     "metadata": {},
     "output_type": "execute_result"
    }
   ],
   "source": [
    "def calcular_media(a, b):\n",
    "    return (a + b) / 3\n",
    "\n",
    "calcular_media(8,8)"
   ]
  },
  {
   "cell_type": "code",
   "execution_count": 87,
   "id": "a7d916f1",
   "metadata": {},
   "outputs": [
    {
     "data": {
      "text/plain": [
       "8.0"
      ]
     },
     "execution_count": 87,
     "metadata": {},
     "output_type": "execute_result"
    }
   ],
   "source": [
    "#solução \n",
    "\n",
    "def calcular_media(a, b):\n",
    "    return (a + b) / 2   #### tem que dividir por 2\n",
    "\n",
    "calcular_media(8,8)"
   ]
  }
 ],
 "metadata": {
  "kernelspec": {
   "display_name": "Python 3",
   "language": "python",
   "name": "python3"
  },
  "language_info": {
   "codemirror_mode": {
    "name": "ipython",
    "version": 3
   },
   "file_extension": ".py",
   "mimetype": "text/x-python",
   "name": "python",
   "nbconvert_exporter": "python",
   "pygments_lexer": "ipython3",
   "version": "3.9.5"
  }
 },
 "nbformat": 4,
 "nbformat_minor": 5
}
