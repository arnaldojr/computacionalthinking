{
 "cells": [
  {
   "cell_type": "markdown",
   "id": "1d4ac727",
   "metadata": {},
   "source": [
    "## Lista de Exercícios: Loops (`for` e `while`) e Estruturas de Dados (`dicionarios`, `conjuntos`, `lista` e `tupla`)\n",
    "\n",
    "Neste notebook, você encontrará exercícios para praticar conceitos relacionados a loops (`for` e `while`) e estruturas de dados (`dicionarios`, `conjuntos`,`lista` e `tupla`).\n",
    "\n",
    "\n",
    "### Dicas Importantes\n",
    "\n",
    "- **Não altere os nomes dos arquivos ou funções**: Isso pode fazer com que os testes automáticos falhem, mesmo que sua solução esteja correta.\n",
    "- **Leia os erros com atenção**: Eles podem fornecer dicas sobre o que está errado em seu código.\n",
    "- **Peça ajuda**: Se estiver tendo dificuldades, não hesite em pedir ajuda ao professor ou colegas.\n"
   ]
  },
  {
   "cell_type": "markdown",
   "id": "ee00e572",
   "metadata": {},
   "source": [
    "1. Contagem de Palavras\n",
    "Escreva uma função chamada `contar_palavras` que recebe uma string e retorna um dicionário onde as chaves são palavras únicas e os valores são a contagem de cada palavra.\n",
    "\n",
    "dica: use o metodo `split()` para quebrar o texto em uma lista de palavras.\n",
    "\n",
    "Exemplo: a função recebe `oi oi ola oi oi ola oi oi oi ola` e retorna `{'oi': 7, 'ola': 2, 'ola,': 1}`"
   ]
  },
  {
   "cell_type": "code",
   "execution_count": 1,
   "id": "d02d0f0f",
   "metadata": {},
   "outputs": [
    {
     "name": "stdout",
     "output_type": "stream",
     "text": [
      "{'oi': 7, 'ola': 3}\n"
     ]
    }
   ],
   "source": [
    "## sua solução aqui...\n",
    "\n",
    "def contar_palavras(texto):\n",
    "    palavras = texto.split()\n",
    "    dicionario = {}\n",
    "    for palavra in palavras:\n",
    "        palavra = palavra.lower()\n",
    "        if palavra in dicionario:\n",
    "            dicionario[palavra] += 1\n",
    "        else:\n",
    "            dicionario[palavra] = 1\n",
    "    return dicionario\n",
    "\n",
    "print(contar_palavras(\"oi oi ola oi oi ola oi oi oi ola \"))"
   ]
  },
  {
   "cell_type": "markdown",
   "id": "d3be7a0e",
   "metadata": {},
   "source": [
    "2. Juntando Dicionários\n",
    "Escreva uma função chamada `juntar_dicionarios` que recebe dois dicionários como argumento e retorna um único dicionário que contém todas as chaves e valores dos dois dicionários originais. Se houver chaves duplicadas, o valor do segundo dicionário deve prevalecer.\n",
    "\n",
    "Exemplo: a função recebe `{\"a\":1,\"b\":2,\"c\":3}, {\"b\":1,\"c\":2,\"d\":3}` e retorna `{'a': 1, 'b': 1, 'c': 2, 'd': 3}`"
   ]
  },
  {
   "cell_type": "code",
   "execution_count": 2,
   "id": "3d195072",
   "metadata": {},
   "outputs": [
    {
     "name": "stdout",
     "output_type": "stream",
     "text": [
      "{'a': 1, 'b': 2, 'c': 3, 'e': 1, 'f': 2, 'd': 3}\n"
     ]
    }
   ],
   "source": [
    "## sua solução aqui...\n",
    "def juntar_dicionarios(dict1, dict2):\n",
    "    dict1.update(dict2)\n",
    "    return dict1\n",
    "\n",
    "a = {\"a\":1,\"b\":2,\"c\":3}\n",
    "b = {\"e\":1,\"f\":2,\"d\":3}\n",
    "print(juntar_dicionarios(a,b))"
   ]
  },
  {
   "cell_type": "markdown",
   "id": "6a56d59c",
   "metadata": {},
   "source": [
    "3. Ordenação de Dicionário por Valor\n",
    "Escreva uma função chamada `ordenar_por_valor` que recebe um dicionário e retorna uma lista de tuplas ordenada pelos valores.\n",
    "\n",
    "dica: use a função `sorted` e pesquise sobre a função `lambda`\n",
    "\n",
    "Exemplo: a função recebe `{\"e\":10,\"f\":2,\"d\":63}` e retorna `[('f', 2), ('e', 10), ('d', 63)]`"
   ]
  },
  {
   "cell_type": "code",
   "execution_count": 1,
   "id": "2408e09a",
   "metadata": {},
   "outputs": [
    {
     "name": "stdout",
     "output_type": "stream",
     "text": [
      "[('f', 2), ('e', 10), ('d', 63)]\n"
     ]
    }
   ],
   "source": [
    "def ordenar_por_valor(dic):\n",
    "    # Função auxiliar para retornar o valor do item do dicionário\n",
    "    def get_value(item):\n",
    "        return item[1]\n",
    "    \n",
    "    # Ordenando o dicionário pelos valores usando a função auxiliar\n",
    "    sorted_items = sorted(dic.items(), key=get_value)       #A função get_value será chamada internamente por sorted para cada item do dicionário enquanto estiver sendo ordenado\n",
    "    \n",
    "    return sorted_items\n",
    "\n",
    "b = {\"e\":10,\"f\":2,\"d\":63}\n",
    "print(ordenar_por_valor(b))\n"
   ]
  },
  {
   "cell_type": "code",
   "execution_count": 2,
   "id": "e8c4a0b2",
   "metadata": {},
   "outputs": [
    {
     "name": "stdout",
     "output_type": "stream",
     "text": [
      "[('f', 2), ('e', 10), ('d', 63)]\n"
     ]
    }
   ],
   "source": [
    "## sua solução aqui...\n",
    "\n",
    "def ordenar_por_valor(dic):\n",
    "    return sorted(dic.items(), key=lambda x: x[1])\n",
    "\n",
    "\n",
    "b = {\"e\":10,\"f\":2,\"d\":63}\n",
    "print(ordenar_por_valor(b))"
   ]
  },
  {
   "cell_type": "markdown",
   "id": "8e16091f",
   "metadata": {},
   "source": [
    "4. Frequência de Caracteres\n",
    "Escreva uma função chamada `frequencia_caracteres` que recebe uma string e retorna um dicionário onde as chaves são caracteres únicos e os valores são a contagem de cada caracter.\n",
    "\n",
    "\n",
    "Exemplo: a função recebe `\"pensamento computacional com python é muito top!\"` e retorna `{'p': 4, 'e': 2, 'n': 4, 's': 1, 'a': 3, 'm': 4, 't': 5, 'o': 7, ' ': 6, 'c': 3, 'u': 2, 'i': 2, 'l': 1, 'y': 1, 'h': 1, 'é': 1, '!': 1}`"
   ]
  },
  {
   "cell_type": "code",
   "execution_count": 3,
   "id": "667854dd",
   "metadata": {},
   "outputs": [
    {
     "name": "stdout",
     "output_type": "stream",
     "text": [
      "{'p': 4, 'e': 2, 'n': 4, 's': 1, 'a': 3, 'm': 4, 't': 5, 'o': 7, ' ': 6, 'c': 3, 'u': 2, 'i': 2, 'l': 1, 'y': 1, 'h': 1, 'é': 1, '!': 1}\n"
     ]
    }
   ],
   "source": [
    "## sua solução aqui...\n",
    "def frequencia_caracteres(texto):\n",
    "    dicionario = {}\n",
    "    for char in texto:\n",
    "        if char in dicionario:\n",
    "            dicionario[char] += 1\n",
    "        else:\n",
    "            dicionario[char] = 1\n",
    "    return dicionario\n",
    "\n",
    "print(frequencia_caracteres(\"pensamento computacional com python é muito top!\"))"
   ]
  },
  {
   "cell_type": "markdown",
   "id": "42ca6e37",
   "metadata": {},
   "source": [
    "5. Inversão de Dicionário\n",
    "Escreva uma função chamada `inverter_dicionario` que recebe um dicionário e retorna um novo dicionário onde as chaves e valores estão invertidos.\n",
    "\n",
    "dica: use list comprehension nos items do dicionario\n",
    "\n",
    "Exemplo: a função recebe `{\"e\":10,\"f\":2,\"d\":63}` e retorna `{10: 'e', 2: 'f', 63: 'd'}`"
   ]
  },
  {
   "cell_type": "code",
   "execution_count": 4,
   "id": "f70eb522",
   "metadata": {},
   "outputs": [
    {
     "name": "stdout",
     "output_type": "stream",
     "text": [
      "{10: 'e', 2: 'f', 63: 'd'}\n"
     ]
    }
   ],
   "source": [
    "def inverter_dicionario(dic):\n",
    "    dic_invertido = {}\n",
    "    for k, v in dic.items():\n",
    "        dic_invertido[v] = k\n",
    "    return dic_invertido\n",
    "\n",
    "b = {\"e\":10,\"f\":2,\"d\":63}\n",
    "print(inverter_dicionario(b))\n"
   ]
  },
  {
   "cell_type": "code",
   "execution_count": 5,
   "id": "d0dae500",
   "metadata": {},
   "outputs": [
    {
     "name": "stdout",
     "output_type": "stream",
     "text": [
      "{10: 'e', 2: 'f', 63: 'd'}\n"
     ]
    }
   ],
   "source": [
    "## sua solução aqui...\n",
    "\n",
    "def inverter_dicionario(dic):\n",
    "    return {v: k for k, v in dic.items()}\n",
    "\n",
    "\n",
    "b = {\"e\":10,\"f\":2,\"d\":63}\n",
    "print(inverter_dicionario(b))"
   ]
  },
  {
   "cell_type": "markdown",
   "id": "b1d1022b",
   "metadata": {},
   "source": [
    "6. Agrupamento de Palavras por Tamanho\n",
    "Escreva uma função chamada `agrupar_por_tamanho` que recebe uma lista de palavras e retorna um dicionário onde as chaves são tamanhos de palavras e os valores são listas de palavras desse tamanho.\n",
    "\n",
    "Exemplo: a função recebe `[\"banana\",\"cereja\",\"com\",\"python\",\"legal\",\"muito\",\"top\",\"!\"]` e retorna `{6: ['banana', 'cereja', 'python'], 3: ['com', 'top'], 5: ['legal', 'muito'], 1: ['!']}`"
   ]
  },
  {
   "cell_type": "code",
   "execution_count": 6,
   "id": "838a06b5",
   "metadata": {},
   "outputs": [
    {
     "name": "stdout",
     "output_type": "stream",
     "text": [
      "{6: ['banana', 'cereja', 'python'], 3: ['com', 'top'], 5: ['legal', 'muito'], 1: ['!']}\n"
     ]
    }
   ],
   "source": [
    "## sua solução aqui...\n",
    "def agrupar_por_tamanho(palavras):\n",
    "    dicionario = {}\n",
    "    for palavra in palavras:\n",
    "        tamanho = len(palavra)\n",
    "        if tamanho in dicionario:\n",
    "            dicionario[tamanho].append(palavra)\n",
    "        else:\n",
    "            dicionario[tamanho] = [palavra]\n",
    "    return dicionario\n",
    "\n",
    "a = [\"banana\",\"cereja\",\"com\",\"python\",\"legal\",\"muito\",\"top\",\"!\"]\n",
    "print(agrupar_por_tamanho(a))"
   ]
  },
  {
   "cell_type": "markdown",
   "id": "0fd63b34",
   "metadata": {},
   "source": [
    "7. Filtragem de Dicionário\n",
    "Escreva uma função chamada `filtrar_dicionario` que recebe um dicionário e um número n. A função deve retornar um novo dicionário contendo apenas as chaves associadas a valores maiores que n.\n",
    "\n",
    "\n",
    "Exemplo: a função recebe `{\"e\":10,\"f\":2,\"h\":6,\"j\":8,\"r\":9,\"d\":63}` e retorna `{'e': 10, 'j': 8, 'r': 9, 'd': 63}`\n",
    "\n"
   ]
  },
  {
   "cell_type": "code",
   "execution_count": 7,
   "id": "85791d7e",
   "metadata": {},
   "outputs": [
    {
     "name": "stdout",
     "output_type": "stream",
     "text": [
      "{'e': 10, 'j': 8, 'r': 9, 'd': 63}\n"
     ]
    }
   ],
   "source": [
    "## sua solução aqui...\n",
    "def filtrar_dicionario(dic, n):\n",
    "    return {k: v for k, v in dic.items() if v > n}\n",
    "\n",
    "\n",
    "b = {\"e\":10,\"f\":2,\"h\":6,\"j\":8,\"r\":9,\"d\":63}\n",
    "n = 7\n",
    "print(filtrar_dicionario(b,n))"
   ]
  },
  {
   "cell_type": "markdown",
   "id": "d613b01f",
   "metadata": {},
   "source": [
    "8. Intersecção de Conjuntos\n",
    "Escreva uma função chamada `interseccao_conjuntos` que recebe duas listas e retorna um conjunto contendo os elementos que aparecem em ambas as listas.\n",
    "\n",
    "Exemplo: a função recebe ` [1,1,1,3,5,7,6,5,2], [2,4,2,1,2,5,43,2]` e retorna `{1, 2, 5}`"
   ]
  },
  {
   "cell_type": "code",
   "execution_count": 8,
   "id": "4fd9ec09",
   "metadata": {},
   "outputs": [
    {
     "name": "stdout",
     "output_type": "stream",
     "text": [
      "{1, 2, 5}\n"
     ]
    }
   ],
   "source": [
    "## sua solução aqui...\n",
    "\n",
    "def interseccao_conjuntos(lista1, lista2):\n",
    "    return set(lista1) & set(lista2)\n",
    "\n",
    "\n",
    "a = [1,1,1,3,5,7,6,5,2]\n",
    "b = [2,4,2,1,2,5,43,2]\n",
    "print(interseccao_conjuntos(a,b))"
   ]
  }
 ],
 "metadata": {
  "kernelspec": {
   "display_name": "Python 3",
   "language": "python",
   "name": "python3"
  },
  "language_info": {
   "codemirror_mode": {
    "name": "ipython",
    "version": 3
   },
   "file_extension": ".py",
   "mimetype": "text/x-python",
   "name": "python",
   "nbconvert_exporter": "python",
   "pygments_lexer": "ipython3",
   "version": "3.9.5"
  }
 },
 "nbformat": 4,
 "nbformat_minor": 5
}
