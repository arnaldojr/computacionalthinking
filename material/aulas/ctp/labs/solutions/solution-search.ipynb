{
 "cells": [
  {
   "cell_type": "markdown",
   "id": "6aeedd15",
   "metadata": {},
   "source": [
    "# Exercícios sobre Busca Sequencial e Busca Binária"
   ]
  },
  {
   "cell_type": "markdown",
   "id": "0b5b37f8",
   "metadata": {},
   "source": [
    "## Instruções\n",
    "\n",
    "Resolva os exercícios propostos abaixo. Para cada exercício, implemente sua solução em Python e teste-a com diferentes entradas de dados para garantir que está correto."
   ]
  },
  {
   "cell_type": "markdown",
   "id": "e8255753",
   "metadata": {},
   "source": [
    "## Exercício 1\n",
    "\n",
    "Implemente a função `busca_sequencial` que recebe uma lista e um valor a ser procurado na lista. A função deve retornar o índice do valor na lista, se encontrado, ou `-1` caso contrário."
   ]
  },
  {
   "cell_type": "code",
   "execution_count": null,
   "id": "7d6dd473",
   "metadata": {},
   "outputs": [],
   "source": [
    "def busca_sequencial(lista, valor):\n",
    "    for i in range(len(lista)):\n",
    "        if lista[i] == valor:\n",
    "            return i\n",
    "    return -1\n",
    "\n",
    "# Teste sua função\n",
    "print(busca_sequencial([1, 2, 3, 4, 5], 3))  # Deve retornar 2\n",
    "print(busca_sequencial([1, 2, 3, 4, 5], 6))  # Deve retornar -1"
   ]
  },
  {
   "cell_type": "markdown",
   "id": "8e82c627",
   "metadata": {},
   "source": [
    "## Exercício 2\n",
    "\n",
    "Implemente a função `busca_binaria` que recebe uma lista ordenada e um valor a ser procurado na lista. A função deve retornar o índice do valor na lista, se encontrado, ou `-1` caso contrário."
   ]
  },
  {
   "cell_type": "code",
   "execution_count": null,
   "id": "8eb089e9",
   "metadata": {},
   "outputs": [],
   "source": [
    "def busca_binaria(lista, valor):\n",
    "    mini = 0\n",
    "    maxi = len(lista) - 1\n",
    "    while mini <= maxi:\n",
    "        meio = (mini + maxi) // 2\n",
    "        if lista[meio] == valor:\n",
    "            return meio\n",
    "        elif lista[meio] < valor:\n",
    "            mini = meio + 1\n",
    "        else:\n",
    "            maxi = meio - 1\n",
    "    return -1\n",
    "\n",
    "# Teste sua função\n",
    "print(busca_binaria([1, 2, 3, 4, 5], 3))  # Deve retornar 2\n",
    "print(busca_binaria([1, 2, 3, 4, 5], 6))  # Deve retornar -1"
   ]
  },
  {
   "cell_type": "markdown",
   "id": "9f14a29c",
   "metadata": {},
   "source": [
    "## Exercício 3\n",
    "\n",
    "Modifique a função `busca_binaria` para que ela conte e retorne o número de comparações realizadas durante a busca, além do índice do elemento encontrado, ou `-1` caso contrário."
   ]
  },
  {
   "cell_type": "code",
   "execution_count": 13,
   "id": "9222b552",
   "metadata": {},
   "outputs": [
    {
     "name": "stdout",
     "output_type": "stream",
     "text": [
      "(1, 5)\n"
     ]
    }
   ],
   "source": [
    "def busca_binaria_com_contagem(lista, valor):\n",
    "    minimo = 0\n",
    "    maximo = len(lista) - 1\n",
    "    contador = 0\n",
    "    while minimo <= maximo:\n",
    "        chute = (minimo + maximo) // 2\n",
    "        contador += 1  # aqui tem uma comparação\n",
    "        if lista[chute] == valor:\n",
    "            return chute, contador\n",
    "        else:\n",
    "            contador += 1  # aqui tem outra comparação\n",
    "            if lista[chute] < valor:\n",
    "                minimo = chute + 1\n",
    "            else:\n",
    "                maximo = chute - 1\n",
    "    return -1, contador\n",
    "\n",
    "\n",
    "# Teste sua função\n",
    "print(busca_binaria_com_contagem([1, 2, 3, 4, 5], 2))  # Deve retornar (2, X) onde X é o número de comparações"
   ]
  },
  {
   "cell_type": "markdown",
   "id": "806c2667",
   "metadata": {},
   "source": [
    "## Exercício 4\n",
    "\n",
    "Escreva uma função `gerar_lista` que recebe dois parâmetros: o tamanho da lista e o intervalo dos valores (por exemplo, entre 1 e 100). A função deve retornar uma lista contendo números aleatórios dentro do intervalo especificado."
   ]
  },
  {
   "cell_type": "code",
   "execution_count": 25,
   "id": "478f204d",
   "metadata": {},
   "outputs": [
    {
     "name": "stdout",
     "output_type": "stream",
     "text": [
      "[53, 53, 78, 79, 31]\n"
     ]
    }
   ],
   "source": [
    "import random\n",
    "\n",
    "def gerar_lista(tamanho, intervalo):\n",
    "    lista = []\n",
    "    for i in range(tamanho):\n",
    "        lista.append(random.randint(intervalo[0], intervalo[1]))\n",
    "    return lista\n",
    "\n",
    "# Teste sua função\n",
    "print(gerar_lista(5, (1, 100)))  # Exemplo de saída: [23, 67, 77, 89, 94]"
   ]
  },
  {
   "cell_type": "markdown",
   "id": "a1387697",
   "metadata": {},
   "source": [
    "## Exercício 5\n",
    "\n",
    "Utilize a função `gerar_lista` para criar uma lista de 100 elementos com valores entre 1 e 1000. Em seguida, utilize a função `busca_binaria_com_contagem` para encontrar um elemento na lista. Anote o número de comparações realizadas e discuta a eficiência da busca binária em comparação com a busca sequencial."
   ]
  },
  {
   "cell_type": "code",
   "execution_count": 130,
   "id": "df70da99",
   "metadata": {},
   "outputs": [
    {
     "name": "stdout",
     "output_type": "stream",
     "text": [
      "Chave: 305\n",
      "Lista: [13, 17, 21, 24, 46, 58, 80, 96, 99, 105, 109, 109, 130, 150, 151, 165, 168, 192, 201, 206, 223, 234, 240, 249, 254, 260, 262, 268, 276, 299, 305, 317, 323, 324, 327, 359, 361, 367, 370, 373, 374, 396, 407, 414, 416, 436, 458, 459, 477, 480, 481, 486, 512, 520, 523, 529, 541, 550, 569, 572, 596, 609, 614, 620, 627, 627, 630, 632, 636, 651, 652, 654, 670, 699, 721, 727, 743, 763, 769, 771, 786, 797, 816, 824, 824, 831, 846, 881, 890, 893, 896, 911, 921, 935, 942, 949, 965, 972, 983, 996]\n",
      "Elemento 305 encontrado no índice 30.\n",
      "Busca binária com 7 comparações.\n",
      "Busca sequêncial com 31 comparações.\n"
     ]
    }
   ],
   "source": [
    "# esqueci de colocar um exercicio para busca_sequencial_com_contagem\n",
    "# então vou fazer um exercicio para busca_sequencial_com_contagem e depois comparar com a busca binária com contagem\n",
    "def busca_sequencial_com_contagem(lista, valor):\n",
    "    contador = 0\n",
    "    for i in range(len(lista)):\n",
    "        contador += 1\n",
    "        if lista[i] == valor:\n",
    "            return i, contador\n",
    "    return -1, contador\n",
    "\n",
    "\n",
    "# cria a lista de 100 elementos entre 1 e 1000\n",
    "lista = gerar_lista(100, (1, 1000))\n",
    "lista.sort()  ### A busca binária só funciona em listas ordenadas\n",
    "\n",
    "# Escolhe um número aleatório entre 1 e 1000 para ser a chave\n",
    "chave = random.randint(1, 1000)\n",
    "\n",
    "# Realiza busca binária e busca sequencial com contagem\n",
    "indice_binaria, comparacoes_binaria = busca_binaria_com_contagem(lista, chave)\n",
    "indice_sequencial, contador_sequencial = busca_sequencial_com_contagem(lista, chave)   \n",
    "\n",
    "# Exibir resultados\n",
    "print(f\"Chave: {chave}\")\n",
    "print(f\"Lista: {lista}\")\n",
    "if indice_binaria != -1:\n",
    "    print(f\"Elemento {chave} encontrado no índice {indice_binaria}.\")\n",
    "    print(f\"Busca binária com {comparacoes_binaria} comparações.\")\n",
    "    print(f\"Busca sequêncial com {contador_sequencial} comparações.\")\n",
    "else:\n",
    "    print(f\"Elemento {chave} não encontrado.\")\n",
    "    print(f\"Busca binária com {comparacoes_binaria} comparações.\")\n",
    "    print(f\"Busca sequêncial com {contador_sequencial} comparações.\")"
   ]
  }
 ],
 "metadata": {
  "kernelspec": {
   "display_name": "Python 3",
   "language": "python",
   "name": "python3"
  },
  "language_info": {
   "codemirror_mode": {
    "name": "ipython",
    "version": 3
   },
   "file_extension": ".py",
   "mimetype": "text/x-python",
   "name": "python",
   "nbconvert_exporter": "python",
   "pygments_lexer": "ipython3",
   "version": "3.9.6"
  }
 },
 "nbformat": 4,
 "nbformat_minor": 5
}
