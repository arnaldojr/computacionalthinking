{
 "cells": [
  {
   "cell_type": "markdown",
   "id": "9074e5e6",
   "metadata": {},
   "source": [
    "\n",
    "## Solução Exercícios com Estruturas de decisão\n",
    "\n",
    "Neste notebook, você encontrará exercícios relacionados a Estruturas de decisão.\n",
    "\n",
    "### Dicas Importantes\n",
    "\n",
    "- **Não altere os nomes dos arquivos ou funções**: Isso pode fazer com que os testes automáticos falhem, mesmo que sua solução esteja correta.\n",
    "- **Leia os erros com atenção**: Eles podem fornecer dicas sobre o que está errado em seu código.\n",
    "- **Peça ajuda**: Se estiver tendo dificuldades, não hesite em pedir ajuda ao professor ou colegas."
   ]
  },
  {
   "cell_type": "markdown",
   "id": "6f666b42",
   "metadata": {},
   "source": [
    "## Exemplo Resolvido:\n",
    "\n",
    "Escreva um programa que receba um valor de temperatura e exibe o estado do clima. Considere:\n",
    "\n",
    "- temperatura > 25 retorna \"quente!\"\n",
    "- temperatura < 18 retorna \"frio!\"\n",
    "- 18 <= temperatura <= 25 retorna \"ameno!\""
   ]
  },
  {
   "cell_type": "code",
   "execution_count": 6,
   "id": "09c9fe7e",
   "metadata": {},
   "outputs": [
    {
     "name": "stdout",
     "output_type": "stream",
     "text": [
      "Hoje o clima está: None\n"
     ]
    }
   ],
   "source": [
    "\"\"\"\n",
    "\n",
    " É fornecida uma estrutura para resolver o problema. \n",
    " \n",
    " Fique ligado! Você deve seguir essa estrudada para evitar erros durante a execução dos testes de validação com o `pytest`\n",
    "\n",
    " Escreva a sua resposta dentra da função, na indicação ` # implemente seu código aqui`\n",
    "\n",
    "\"\"\"\n",
    "\n",
    "def avaliar_temperatura(temp):\n",
    "\n",
    "    # implemente seu código aqui\n",
    "    \n",
    "    \n",
    "    pass  ## quando implementar apague essa linha\n",
    "\n",
    "\n",
    "\n",
    "\n",
    "\"\"\"\n",
    "Em alguns exercicios é fornecida uma estrutura para você testar e validar seu código inputando a entrada que queira, isso ajuda a validar sua logica de programação\n",
    "\n",
    "\"\"\"\n",
    "\n",
    "# Teste (para você testar seu código) \n",
    "valor = float(input(\"Digite a temperatura: \"))\n",
    "resultado = avaliar_temperatura(valor)\n",
    "print(f\"Hoje o clima está: {resultado}\")\n"
   ]
  },
  {
   "cell_type": "code",
   "execution_count": 41,
   "id": "1f9e388f",
   "metadata": {},
   "outputs": [
    {
     "name": "stdout",
     "output_type": "stream",
     "text": [
      "Hoje o clima está: ameno!\n"
     ]
    }
   ],
   "source": [
    "## uma possivel solução para esse problema\n",
    "\n",
    "def avaliar_temperatura(temp):\n",
    "\n",
    "    # implemente seu código aqui\n",
    "    \n",
    "    if temp > 25:\n",
    "        return \"quente!\"\n",
    "    elif temp < 18:\n",
    "        return \"frio!\"\n",
    "    else:\n",
    "        return \"ameno!\"\n",
    "\n",
    "\n",
    "# Teste (para você testar seu código) \n",
    "valor = float(input(\"Digite a temperatura: \"))\n",
    "resultado = avaliar_temperatura(valor)\n",
    "print(f\"Hoje o clima está: {resultado}\")\n"
   ]
  },
  {
   "cell_type": "markdown",
   "id": "5f8f6161",
   "metadata": {},
   "source": [
    "## Agora que é com você\n",
    "\n",
    "bom trabalho dev!\n",
    " "
   ]
  },
  {
   "cell_type": "markdown",
   "id": "5bab2f58",
   "metadata": {},
   "source": [
    "## Exercicio 1 - Conversor de Notas:\n",
    "\n",
    "Escreva um programa que receba uma nota (0 a 100) e converta conforme o seguinte:\n",
    "\n",
    "- 90 a 100: A\n",
    "- 80 a 89: B\n",
    "- 70 a 79: C\n",
    "- 60 a 69: D\n",
    "- Abaixo de 60: F"
   ]
  },
  {
   "cell_type": "code",
   "execution_count": 30,
   "id": "3b5c761b",
   "metadata": {},
   "outputs": [
    {
     "name": "stdout",
     "output_type": "stream",
     "text": [
      "A nota convertida é: B\n"
     ]
    }
   ],
   "source": [
    "def conversor_notas(nota):\n",
    "    if 90 <= nota <= 100:\n",
    "        return \"A\"\n",
    "    elif 80 <= nota < 90:\n",
    "        return \"B\"\n",
    "    elif 70 <= nota < 80:\n",
    "        return \"C\"\n",
    "    elif 60 <= nota < 70:\n",
    "        return \"D\"\n",
    "    else:\n",
    "        return \"F\"\n",
    "\n",
    "# Teste \n",
    "nota = float(input(\"Digite a nota (0 a 100): \"))\n",
    "print(f\"A nota convertida é: {conversor_notas(nota)}\")    "
   ]
  },
  {
   "cell_type": "code",
   "execution_count": null,
   "id": "99311a51",
   "metadata": {},
   "outputs": [],
   "source": [
    "def maior_numero(a, b, c):\n",
    "    if a > b and a > c:\n",
    "        return a\n",
    "    elif b > a and b > c:\n",
    "        return b\n",
    "    else:\n",
    "        return c\n",
    "\n",
    "# Teste\n",
    "num1 = float(input(\"Digite o primeiro número: \"))\n",
    "num2 = float(input(\"Digite o segundo número: \"))\n",
    "num3 = float(input(\"Digite o terceiro número: \"))\n",
    "print(f\"O maior número é: {maior_numero(num1, num2, num3)}\")\n"
   ]
  },
  {
   "cell_type": "code",
   "execution_count": null,
   "id": "0c3503ae",
   "metadata": {},
   "outputs": [],
   "source": [
    "\n",
    "def verificar_paridade(numero):\n",
    "    return \"par\" if numero % 2 == 0 else \"ímpar\"\n",
    "\n",
    "# Teste\n",
    "num = float(input(\"Digite um número: \"))\n",
    "print(f\"O número é {verificar_paridade(num)}\")\n"
   ]
  },
  {
   "cell_type": "code",
   "execution_count": null,
   "id": "91d4f940",
   "metadata": {},
   "outputs": [],
   "source": [
    "\n",
    "def calcular_preco(produto_preco, quantidade):\n",
    "    if quantidade > 10:\n",
    "        return produto_preco * quantidade * 0.9\n",
    "    else:\n",
    "        return produto_preco * quantidade\n",
    "\n",
    "# Teste\n",
    "preco = float(input(\"Digite o preço do produto: \"))\n",
    "quant = int(input(\"Digite a quantidade comprada: \"))\n",
    "print(f\"O valor total é: {calcular_preco(preco, quant):.2f}\")\n"
   ]
  },
  {
   "cell_type": "code",
   "execution_count": null,
   "id": "b853e08f",
   "metadata": {},
   "outputs": [],
   "source": [
    "\n",
    "def calculadora(num1, num2, operacao):\n",
    "    if operacao == \"soma\":\n",
    "        return num1 + num2\n",
    "    elif operacao == \"subtração\":\n",
    "        return num1 - num2\n",
    "    elif operacao == \"multiplicação\":\n",
    "        return num1 * num2\n",
    "    elif operacao == \"divisão\":\n",
    "        if num2 == 0:\n",
    "            return \"Erro: Divisão por zero\"\n",
    "        return num1 / num2\n",
    "    else:\n",
    "        return \"Operação inválida\"\n",
    "\n",
    "# Teste\n",
    "n1 = float(input(\"Digite o primeiro número: \"))\n",
    "n2 = float(input(\"Digite o segundo número: \"))\n",
    "op = input(\"Digite a operação (soma, subtração, multiplicação, divisão): \")\n",
    "print(f\"Resultado: {calculadora(n1, n2, op)}\")\n"
   ]
  },
  {
   "cell_type": "code",
   "execution_count": null,
   "id": "1e94da7e",
   "metadata": {},
   "outputs": [],
   "source": [
    "\n",
    "def determinar_quadrante(x, y):\n",
    "    if x > 0 and y > 0:\n",
    "        return \"Quadrante I\"\n",
    "    elif x < 0 and y > 0:\n",
    "        return \"Quadrante II\"\n",
    "    elif x < 0 and y < 0:\n",
    "        return \"Quadrante III\"\n",
    "    elif x > 0 and y < 0:\n",
    "        return \"Quadrante IV\"\n",
    "    elif x == 0 and y == 0:\n",
    "        return \"Origem\"\n",
    "    else:\n",
    "        return \"Sobre um dos eixos\"\n",
    "\n",
    "# Teste\n",
    "coord_x = float(input(\"Digite a coordenada x: \"))\n",
    "coord_y = float(input(\"Digite a coordenada y: \"))\n",
    "print(f\"O ponto está no {determinar_quadrante(coord_x, coord_y)}\")\n"
   ]
  },
  {
   "cell_type": "code",
   "execution_count": null,
   "id": "a9eaf86c",
   "metadata": {},
   "outputs": [],
   "source": [
    "\n",
    "def analisar_desempenho(nota1, nota2, nota3):\n",
    "    media = (nota1 + nota2 + nota3) / 3\n",
    "    print(media)\n",
    "    if media >= 70 and nota1 >= 50 and nota2 >= 50 and nota3 >= 50:\n",
    "        return \"Aprovado\"\n",
    "    elif media < 70 and ((nota1 < 50 and (nota2 < 50 or nota3 < 50)) or (nota2 < 50 and nota3 < 50 )):\n",
    "        return \"Reprovado\"\n",
    "    else:\n",
    "        return \"Recuperação\"\n",
    "\n",
    "\n",
    "\n",
    "# Teste\n",
    "nota_1 = float(input(\"Digite a primeira nota: \"))\n",
    "nota_2 = float(input(\"Digite a segunda nota: \"))\n",
    "nota_3 = float(input(\"Digite a terceira nota: \"))\n",
    "print(f\"O aluno foi {analisar_desempenho(nota_1, nota_2, nota_3)}\")\n"
   ]
  },
  {
   "cell_type": "code",
   "execution_count": null,
   "id": "68a55015",
   "metadata": {},
   "outputs": [],
   "source": [
    "\n",
    "def verificar_triangulo(lado1, lado2, lado3):\n",
    "    if (lado1 + lado2 > lado3) and (lado1 + lado3 > lado2) and (lado2 + lado3 > lado1):\n",
    "        if lado1 == lado2 == lado3:\n",
    "            return \"Equilátero\"\n",
    "        elif lado1 == lado2 or lado1 == lado3 or lado2 == lado3:\n",
    "            return \"Isósceles\"\n",
    "        else:\n",
    "            return \"Escaleno\"\n",
    "    else:\n",
    "        return \"Não forma um triângulo\"\n",
    "\n",
    "# Teste\n",
    "l1 = float(input(\"Digite o primeiro lado: \"))\n",
    "l2 = float(input(\"Digite o segundo lado: \"))\n",
    "l3 = float(input(\"Digite o terceiro lado: \"))\n",
    "print(f\"O triângulo é {verificar_triangulo(l1, l2, l3)}\")\n"
   ]
  },
  {
   "cell_type": "code",
   "execution_count": null,
   "id": "2cc4953e",
   "metadata": {},
   "outputs": [],
   "source": [
    "def e_bissexto(ano):\n",
    "    if (ano%4==0 and ano%100!=0) or (ano%400==0):\n",
    "        return True\n",
    "    else:\n",
    "        return False\n",
    "    \n",
    "ano= int(input(\"Digite o ano: \"))\n",
    "print(f\"O ano {ano} é bissexto? {e_bissexto(ano)}\")"
   ]
  },
  {
   "cell_type": "code",
   "execution_count": null,
   "id": "e0402014",
   "metadata": {},
   "outputs": [],
   "source": [
    "# # Função para verificar se um ano é bissext\n",
    "# def e_bissexto(ano):\n",
    "#     return (ano % 4 == 0 and ano % 100 != 0) or (ano % 400 == 0)\n",
    "\n",
    "def verificar_data_valida(data):\n",
    "\n",
    "    # Dividir a string de entrada e verificar se está no formato correto\n",
    "    partes = data.split(\"/\")\n",
    "    if len(partes) == 3:\n",
    "        dia, mes, ano = partes\n",
    "    else:\n",
    "        return False\n",
    "    if len(dia)!= 2 or len(mes)!= 2 or len(ano) != 4:\n",
    "        return False\n",
    "    else:\n",
    "        dia = int(dia)\n",
    "        mes = int(mes)\n",
    "        ano = int(ano)\n",
    "\n",
    "    # Verifica o dia\n",
    "    if (dia >=1 and dia <=31) and (mes >=1 and mes <=12) and (ano > 0 ):\n",
    "        # Verifica fevereiro\n",
    "        if mes==2:\n",
    "            if e_bissexto(ano) and dia > 29:\n",
    "                return False\n",
    "            elif not(e_bissexto(ano)) and dia >28:\n",
    "                return False\n",
    "\n",
    "        # verifica os outros meses se estão ok com 31\n",
    "        if (mes == 4 or mes == 6 or mes == 9 or mes ==11) and dia ==31:\n",
    "            return False\n",
    "    else:\n",
    "        return False\n",
    "    \n",
    "    return True\n",
    "\n",
    "# Teste\n",
    "data = str(input(\"Digite a data no formato dd/mm/aaaa: \"))\n",
    "print(f\"{data} é valida? {verificar_data_valida(data)}\")\n"
   ]
  },
  {
   "cell_type": "code",
   "execution_count": null,
   "id": "3bf1a82a",
   "metadata": {},
   "outputs": [],
   "source": [
    "\n",
    "def converter_temperatura(temp, escala):\n",
    "    if escala == \"C\":\n",
    "        fahrenheit = (temp * 9/5) + 32\n",
    "        kelvin = temp + 273.15\n",
    "        return f\"Fahrenheit: {fahrenheit}°F, Kelvin: {kelvin}K\"\n",
    "    elif escala == \"F\":\n",
    "        celsius = (temp - 32) * 5/9\n",
    "        kelvin = celsius + 273.15\n",
    "        return f\"Celsius: {celsius}°C, Kelvin: {kelvin}K\"\n",
    "    elif escala == \"K\":\n",
    "        celsius = temp - 273.15\n",
    "        fahrenheit = (celsius * 9/5) + 32\n",
    "        return f\"Celsius: {celsius}°C, Fahrenheit: {fahrenheit}°F\"\n",
    "    else:\n",
    "        return \"Escala inválida\"\n",
    "\n",
    "# Teste\n",
    "temperatura = float(input(\"Digite a temperatura: \"))\n",
    "esc = input(\"Digite a escala (C, F, K): \").upper()\n",
    "print(converter_temperatura(temperatura, esc))\n"
   ]
  }
 ],
 "metadata": {
  "kernelspec": {
   "display_name": "Python 3",
   "language": "python",
   "name": "python3"
  },
  "language_info": {
   "codemirror_mode": {
    "name": "ipython",
    "version": 3
   },
   "file_extension": ".py",
   "mimetype": "text/x-python",
   "name": "python",
   "nbconvert_exporter": "python",
   "pygments_lexer": "ipython3",
   "version": "3.9.5"
  }
 },
 "nbformat": 4,
 "nbformat_minor": 5
}
