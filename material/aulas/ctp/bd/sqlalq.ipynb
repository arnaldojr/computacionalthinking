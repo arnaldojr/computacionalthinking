{
 "cells": [
  {
   "cell_type": "markdown",
   "metadata": {},
   "source": [
    "## SQLAlchemy \n",
    "\n",
    "\n",
    "Trata-se de uma biblioteca SQL e ORM (Object Relational Mapper) para Python que permite aos desenvolvedores interagir com bancos de dados de uma maneira mais abstrata e orientada a objetos. \n",
    "\n",
    "Ela suporta uma variedade de sistemas de banco de dados e facilita o mapeamento entre classes Python e tabelas de banco de dados, além de proporcionar uma maneira de construir consultas SQL de forma programática e segura."
   ]
  },
  {
   "cell_type": "markdown",
   "metadata": {},
   "source": [
    "### Usando o SQLAlchemy\n",
    "\n",
    "É simples e vamos basicamente seguir os seguintes passos:\n",
    "\n",
    "1. `Instalação dos pacotes necessários`: Instalação do SQLAlchemy.\n",
    "2. `Configuração da conexão`: Configurar a string de conexão para acessar o banco de dados ( vamos utilizar o Oracle, mas pode ser qualquer banco).\n",
    "3. `Estabelecer a conexão`: estabelecer a conexão com o banco de dados da nossa preferência.\n",
    "4. `Executar consultas`: executar consultas SQL usando a conexão estabelecida.\n",
    "5. `Fechamento da conexão`: fechar a conexão de maneira segura ao final das operações."
   ]
  },
  {
   "cell_type": "code",
   "execution_count": null,
   "metadata": {},
   "outputs": [],
   "source": [
    "# Instalação dos pacotes necessários\n",
    "!pip install sqlalchemy oracledb"
   ]
  },
  {
   "cell_type": "code",
   "execution_count": null,
   "metadata": {},
   "outputs": [],
   "source": [
    "# Verificação da versão dos pacotes instalados\n",
    "import sqlalchemy\n",
    "import oracledb\n",
    "print(sqlalchemy.__version__)\n",
    "print(oracledb.version)"
   ]
  },
  {
   "cell_type": "markdown",
   "metadata": {},
   "source": [
    "### Nossa tabela de exemplo\n",
    "\n",
    "Já temos uma tabela criada em nosso banco de dados chamada `PETSHOP`:\n",
    "\n",
    "```SQL\n",
    "table: petshop\n",
    "schema:\n",
    "    id  -- PK number\n",
    "    tipo_pet -- varchar 30\n",
    "    nome_pet -- varchar 30\n",
    "    idade -- number int\n",
    "```\n",
    "\n",
    "Tenha certeza de que a tabela existe."
   ]
  },
  {
   "cell_type": "code",
   "execution_count": 9,
   "metadata": {},
   "outputs": [],
   "source": [
    "# Importação das nossas credenciais\n",
    "import json\n",
    "\n",
    "with open(\"credenciais.json\") as f:\n",
    "    credenciais = json.load(f)\n",
    "\n",
    "USER = credenciais[\"user\"]\n",
    "PASS = credenciais[\"pass\"]\n",
    "\n",
    "HOST = \"oracle.fiap.com.br\"\n",
    "PORT = 1521\n",
    "SID = \"ORCL\"\n"
   ]
  },
  {
   "cell_type": "code",
   "execution_count": 2,
   "metadata": {},
   "outputs": [],
   "source": [
    "# Configuração da conexão\n",
    "from sqlalchemy import create_engine\n",
    "\n",
    "# Substitua 'USER', 'PASS', 'HOST', 'PORT', e 'SID' pelos seus dados de conexão\n",
    "connection_string = f\"oracle+oracledb://{USER}:{PASS}@{HOST}:{PORT}/{SID}\"\n",
    "\n",
    "# Criar engine de conexão\n",
    "engine = create_engine(connection_string)\n",
    "\n",
    "# Estabelecer conexão\n",
    "connection = engine.connect()"
   ]
  },
  {
   "cell_type": "code",
   "execution_count": 3,
   "metadata": {},
   "outputs": [
    {
     "name": "stdout",
     "output_type": "stream",
     "text": [
      "(63, 'Cachorro', 'Rex', 5)\n",
      "(64, 'Cachorro', 'toto', 15)\n",
      "(44, 'tigre', 'bengala', 12)\n",
      "(62, 'Cachorro', 'Rex', 5)\n",
      "(33, 'elefante', 'jurandir', 6)\n",
      "(34, 'elefante', 'jurandir', 2000)\n",
      "(35, 'elefante', 'jurandir', 2000)\n",
      "(36, 'elefante', 'jurandir', 2000)\n",
      "(37, 'elefante', 'jurandir', 2000)\n",
      "(38, 'elefante', 'jurandir', 2000)\n",
      "(39, 'leao', 'pedroca', 20)\n",
      "(40, 'leao', 'pedroca', 20)\n",
      "(41, 'leao', 'pedroca', 20)\n",
      "(42, 'leao', 'pedroca', 20)\n",
      "(43, 'leao', 'pedroca', 20)\n",
      "(5, 'cachoro', 'pituca', 3)\n",
      "(6, 'cachoro', 'pituca', 3)\n",
      "(7, 'cachoro', 'pituca', 3)\n",
      "(8, 'cachoro', 'pituca', 3)\n"
     ]
    }
   ],
   "source": [
    "# Podemos fazer as consultas diretamente em SQL\n",
    "# O uso do text() informa ao SQLAlchemy que a string deve ser tratada como uma instrução SQL textual.\n",
    "\n",
    "from sqlalchemy import text\n",
    "\n",
    "# Executar uma consulta e imprimir o resultado\n",
    "result = connection.execute(text(\"SELECT * FROM PETSHOP\"))\n",
    "for row in result:\n",
    "    print(row)\n",
    "\n",
    "# Fechar conexão\n",
    "connection.close()"
   ]
  },
  {
   "cell_type": "markdown",
   "metadata": {},
   "source": [
    "### ORM (Object-Relational Mapping)\n",
    "\n",
    "Podemos consultar dados de um banco de dados Oracle usando SQLAlchemy sem escrever diretamente as consultas SQL, utilizando a abordagem de ORM (Object-Relational Mapping) que o SQLAlchemy fornece. \n",
    "\n",
    "Isso permite que você interaja com o banco de dados usando objetos Python, o que pode ser mais intuitivo e seguro contra injeções SQL. \n",
    "\n",
    "Vamos entender como utilizar essa abordagem:\n",
    "\n",
    "1. `Definir modelos de dados`: Primeiro, você define `classes Python` que mapeiam para as tabelas do banco de dados. Cada classe corresponderá a uma tabela, e cada instância da classe a uma linha na tabela.\n",
    "\n",
    "2. `Criar uma sessão`: A sessão no SQLAlchemy permite agrupar várias operações em uma única transação.\n",
    "\n",
    "3. `Consultar dados usando a sessão`: Você pode usar métodos como query() para buscar dados, filtrar resultados, ordenar, etc., tudo sem escrever SQL explicitamente.\n"
   ]
  },
  {
   "cell_type": "code",
   "execution_count": null,
   "metadata": {},
   "outputs": [],
   "source": [
    "# Definindo o Modelo de Dados\n",
    "# Primeiro, você define uma classe que mapeia para a tabela petshop no banco de dados. \n",
    "# Atenção: Cada atributo da classe corresponderá a uma coluna na tabela.\n",
    "\n",
    "from sqlalchemy import create_engine, Column, Integer, String\n",
    "from sqlalchemy.orm import declarative_base\n",
    "\n",
    "\n",
    "# Base para os modelos de dados\n",
    "Base = declarative_base()\n",
    "\n",
    "# Definição do modelo para a tabela petshop\n",
    "class Petshop(Base):\n",
    "    __tablename__ = 'petshop'\n",
    "    id = Column(Integer, primary_key=True)\n",
    "    tipo_pet = Column(String(30))\n",
    "    nome_pet = Column(String(30))\n",
    "    idade = Column(Integer)"
   ]
  },
  {
   "cell_type": "markdown",
   "metadata": {},
   "source": [
    "\n",
    "- `Base`: É uma classe base do SQLAlchemy de onde todos os modelos herdam, usada para definir a estrutura do banco de dados em termos de objetos Python.\n",
    "- `__tablename__` define o nome da tabela no banco de dados.\n",
    "- `Column` define uma coluna na tabela. O primeiro argumento é o tipo de dado da coluna, e os argumentos nomeados são configurações adicionais como `primary_key`."
   ]
  },
  {
   "cell_type": "markdown",
   "metadata": {},
   "source": [
    "- `Session`: Usado para criar uma instância de sessão que permite você fazer queries e outras transações no banco de dados.\n"
   ]
  },
  {
   "cell_type": "code",
   "execution_count": null,
   "metadata": {},
   "outputs": [],
   "source": [
    "from sqlalchemy.orm import sessionmaker\n",
    "from sqlalchemy import create_engine\n",
    "\n",
    "# Configuração da conexão\n",
    "# Substitua 'USER', 'PASS', 'HOST', 'PORT', e 'SID' pelos seus dados de conexão\n",
    "connection_string = f\"oracle+oracledb://{USER}:{PASS}@{HOST}:{PORT}/{SID}\"\n",
    "\n",
    "# Criar engine de conexão\n",
    "engine = create_engine(connection_string)\n",
    "\n",
    "# sessionmaker é uma fábrica de sessões, que é usada para criar sessões de banco de dados\n",
    "Session = sessionmaker(bind=engine)\n",
    "\n",
    "# Criar uma sessão\n",
    "session = Session()\n",
    "\n",
    "# Consultar dados\n",
    "pets = session.query(Petshop).all()  # Obtém todos os registros da tabela PETSHOP\n",
    "\n",
    "for pet in pets:\n",
    "    print(f\"{pet.nome_pet}, {pet.tipo_pet}, {pet.idade} anos\")  # Acessar os atributos da cada pet\n",
    "\n",
    "# Fechar sessão\n",
    "session.close()"
   ]
  },
  {
   "cell_type": "markdown",
   "metadata": {},
   "source": [
    "### Operações CRUD com SQLAlchemy\n",
    "\n",
    "Vamos incluir operações básicas de CRUD (Create, Read, Update, Delete) usando SQLAlchemy. \n",
    "\n",
    "Isso permitirá que você manipule dados na tabela petshop de várias maneiras. :)"
   ]
  },
  {
   "cell_type": "code",
   "execution_count": null,
   "metadata": {},
   "outputs": [],
   "source": [
    "# CREATE: Adicionar um novo pet\n",
    "\n",
    "# Create: Um novo objeto Petshop é criado e adicionado à sessão com session.add(), \n",
    "# e então as mudanças são salvas no banco de dados com session.commit()`.\n",
    "\n",
    "novo_pet = Petshop(tipo_pet='Cachorro', nome_pet='toto', idade=15)\n",
    "session.add(novo_pet)\n",
    "session.commit()"
   ]
  },
  {
   "cell_type": "code",
   "execution_count": null,
   "metadata": {},
   "outputs": [],
   "source": [
    "# READ: Consultar dados\n",
    "pets = session.query(Petshop).all()\n",
    "for pet in pets:\n",
    "    print(f\"{pet.nome_pet}, {pet.tipo_pet}, {pet.idade} anos\")"
   ]
  },
  {
   "cell_type": "code",
   "execution_count": null,
   "metadata": {},
   "outputs": [],
   "source": [
    "# UPDATE: Atualizar dados de um pet existente\n",
    "\n",
    "# Update: Encontra um registro específico (neste caso, pelo nome), \n",
    "# altera um atributo e salva a alteração no banco de dados.\n",
    "\n",
    "pet_a_atualizar = session.query(Petshop).filter(Petshop.nome_pet == 'jurandir').first()\n",
    "\n",
    "if pet_a_atualizar:\n",
    "    pet_a_atualizar.idade = 6\n",
    "    session.commit()"
   ]
  },
  {
   "cell_type": "code",
   "execution_count": null,
   "metadata": {},
   "outputs": [],
   "source": [
    "# DELETE: Deletar um pet\n",
    "\n",
    "# Delete: Encontra um registro específico (neste caso, pelo nome),\n",
    "# e o remove do banco de dados.\n",
    "\n",
    "pet_a_deletar = session.query(Petshop).filter(Petshop.nome_pet == 'loro jose').first()\n",
    "\n",
    "if pet_a_deletar:\n",
    "    session.delete(pet_a_deletar)\n",
    "    session.commit()"
   ]
  },
  {
   "cell_type": "code",
   "execution_count": null,
   "metadata": {},
   "outputs": [],
   "source": [
    "# Fechar sessão\n",
    "\n",
    "# O método `session.close()` encerra a conexão com o banco de dados e libera recursos.\n",
    "\n",
    "session.close()"
   ]
  },
  {
   "cell_type": "markdown",
   "metadata": {},
   "source": [
    "***Dica*** Quando usar o session.close()\n",
    "\n",
    "É uma boa prática fechar a sessão quando você termina todas as operações que planeja executar nessa sessão específica.\n",
    "\n",
    "- `Após uma série de operações`: Se você está executando uma série de operações CRUD (criar, ler, atualizar, deletar) e elas são todas parte de um único bloco lógico de trabalho, é adequado fechar a sessão após essas operações estarem completas.\n",
    "\n",
    "- `Em scripts ou funções autônomas`: Se o seu código está estruturado de forma que as operações de banco de dados estão contidas em uma função ou script que é executado e depois termina, você deve fechar a sessão ao final dessas operações.\n",
    "\n",
    "- `Antes de lançar exceções`: Se você detectar erros e planeja lançar uma exceção que pode terminar o script ou mudar o fluxo do programa, é uma boa prática fechar a sessão antes de lançar a exceção para garantir que os recursos sejam liberados corretamente."
   ]
  },
  {
   "cell_type": "markdown",
   "metadata": {},
   "source": [
    "### Básico da `session.query()`\n",
    "\n",
    "\n",
    "Nos exemplos acima realiamos alguma 'query', vamos entender e explorar mais algumas possiblidades: \n",
    "\n",
    "'session.query()' é usado para criar um objeto de consulta que permite selecionar dados de uma ou mais tabelas. Vamos começar com alguns exemplos básicos e então explorar algumas funcionalidades mais avançadas."
   ]
  },
  {
   "cell_type": "markdown",
   "metadata": {},
   "source": [
    "#### Selecionar Todos os Registros\n",
    "\n",
    "Este é o exemplo mais simples, onde selecionamos todos os registros de uma tabela."
   ]
  },
  {
   "cell_type": "code",
   "execution_count": null,
   "metadata": {},
   "outputs": [],
   "source": [
    "#### lembre de criar a sessão novamente para poder fazer a consulta\n",
    "\n",
    "# Selecionar todos os registros da tabela Petshop\n",
    "todos_pets = session.query(Petshop).all()\n",
    "\n",
    "for pet in todos_pets:\n",
    "    print(f\"{pet.nome_pet}, {pet.tipo_pet}, {pet.idade} anos\")\n"
   ]
  },
  {
   "cell_type": "markdown",
   "metadata": {},
   "source": [
    "#### Filtrar Registros\n",
    "\n",
    "Você pode usar o método `filter()` para especificar condições que os registros devem satisfazer para serem incluídos no resultado."
   ]
  },
  {
   "cell_type": "code",
   "execution_count": null,
   "metadata": {},
   "outputs": [],
   "source": [
    "# Selecionar todos os pets que são cachorros\n",
    "cachorros = session.query(Petshop).filter(Petshop.tipo_pet == 'cachoro').all()\n",
    "for cachorro in cachorros:\n",
    "    print(f\"{cachorro.nome_pet}, {cachorro.idade} anos\")\n"
   ]
  },
  {
   "cell_type": "markdown",
   "metadata": {},
   "source": [
    "#### Ordenar Resultados\n",
    "\n",
    "Use o método `order_by()` para ordenar os resultados da consulta."
   ]
  },
  {
   "cell_type": "code",
   "execution_count": null,
   "metadata": {},
   "outputs": [],
   "source": [
    "# Ordenar pets por idade\n",
    "pets_ordenados = session.query(Petshop).order_by(Petshop.idade).all()\n",
    "for pet in pets_ordenados:\n",
    "    print(f\"{pet.nome_pet}, {pet.tipo_pet}, {pet.idade} anos\")\n"
   ]
  },
  {
   "cell_type": "markdown",
   "metadata": {},
   "source": [
    "#### Limitar Resultados\n",
    "\n",
    "Para limitar o número de resultados retornados, use o método `limit()`."
   ]
  },
  {
   "cell_type": "code",
   "execution_count": null,
   "metadata": {},
   "outputs": [],
   "source": [
    "# Selecionar os três primeiros pets\n",
    "primeiros_tres_pets = session.query(Petshop).limit(3).all()\n",
    "for pet in primeiros_tres_pets:\n",
    "    print(f\"{pet.nome_pet}, {pet.tipo_pet}, {pet.idade} anos\")\n"
   ]
  },
  {
   "cell_type": "markdown",
   "metadata": {},
   "source": [
    "#### Contar Registros\n",
    "\n",
    "Para contar o número de registros que atendem a uma condição, use o método `count()`.\n"
   ]
  },
  {
   "cell_type": "code",
   "execution_count": null,
   "metadata": {},
   "outputs": [],
   "source": [
    "# Contar quantos cachorros existem na tabela\n",
    "quantidade_cachorros = session.query(Petshop).filter(Petshop.tipo_pet == 'leao').count()\n",
    "print(f\"Quantidade de leao: {quantidade_cachorros}\")\n"
   ]
  },
  {
   "cell_type": "code",
   "execution_count": null,
   "metadata": {},
   "outputs": [],
   "source": [
    "# alternativa com filter_by(), é mais simples mas menos flexível\n",
    "\n",
    "quantidade = session.query(Petshop).filter_by(tipo_pet='leao').all()\n",
    "print(f\"Quantidade de leao: {len(quantidade)}\")"
   ]
  },
  {
   "cell_type": "markdown",
   "metadata": {},
   "source": [
    "#### Selecionar Colunas Específicas\n",
    "\n",
    "Se você quiser selecionar apenas algumas colunas específicas em vez de objetos completos, você pode especificar isso na chamada do `query()`."
   ]
  },
  {
   "cell_type": "code",
   "execution_count": null,
   "metadata": {},
   "outputs": [],
   "source": [
    "# Selecionar apenas o nome e idade dos pets\n",
    "nomes_idades = session.query(Petshop.nome_pet, Petshop.idade).all()\n",
    "for nome, idade in nomes_idades:\n",
    "    print(f\"{nome}, {idade} anos\")\n"
   ]
  },
  {
   "cell_type": "markdown",
   "metadata": {},
   "source": [
    "### Criando uma nova tabela no banco de dados\n",
    "\n",
    "Para criar uma nova tabela em um banco de dados usando SQLAlchemy, vamos definir a estrutura da tabela em forma de uma `classe Python`, utilizando a base declarativa do SQLAlchemy. Depois, você pode usar esta definição para efetivamente criar a tabela no banco de dados.\n",
    "\n",
    "- Passo 1: Definir a Classe da Tabela\n",
    "- Passo 2: Criar a Tabela no Banco de Dados\n",
    "- Passo 3: Usar a nova Tabela :)"
   ]
  },
  {
   "cell_type": "markdown",
   "metadata": {},
   "source": [
    "#### Nossa nova tabela de exemplo\n",
    "\n",
    "Vamos criar em nosso banco de dados uma tabela chamada `Clientes`:\n",
    "\n",
    "```SQL\n",
    "table: Clientes\n",
    "schema:\n",
    "    id  -- PK number\n",
    "    nome -- varchar 100\n",
    "    email -- varchar 100\n",
    "    saldo -- number float\n",
    "```"
   ]
  },
  {
   "cell_type": "markdown",
   "metadata": {},
   "source": [
    "#### Passo 1: Definir a Classe da Tabela\n",
    "\n",
    "Primeiramente, definimos a classe que mapeia para a tabela no banco de dados. Essa classe herda de Base, que é uma instância criada pela função `declarative_base()` do SQLAlchemy."
   ]
  },
  {
   "cell_type": "code",
   "execution_count": 40,
   "metadata": {},
   "outputs": [],
   "source": [
    "from sqlalchemy import Sequence, Column, Integer, String, Float\n",
    "from sqlalchemy.orm import declarative_base\n",
    "from sqlalchemy.orm import sessionmaker\n",
    "\n",
    "# Base para os modelos de dados\n",
    "Base = declarative_base()\n",
    "\n",
    "# Definição do modelo para a tabela clientes\n",
    "class Cliente(Base):\n",
    "    __tablename__ = 'clientes'\n",
    "    id = Column(Integer, Sequence('cliente_id_seq'), primary_key=True)\n",
    "    nome = Column(String(100), nullable=False)\n",
    "    email = Column(String(100), unique=True, nullable=False)\n",
    "    saldo = Column(Float, default=0.0)\n",
    "\n",
    "# FAZER A CONEXÃO COM O BANCO DE DADOS\n",
    "\n",
    "# ....\n",
    "# ....\n",
    "# ...."
   ]
  },
  {
   "cell_type": "markdown",
   "metadata": {},
   "source": [
    "#### Passo 2: Criar a Tabela no Banco de Dados\n",
    "\n",
    "Depois de definir a classe e configurar a conexão com banco, você pode criar a tabela no banco de dados chamando o método `create_all()` do objeto Base, passando a engine como argumento. \n",
    "\n",
    "Este método irá verificar todas as classes que herdam de Base e criar as tabelas no banco de dados conforme necessário, se ela ainda não existir. Se a tabela já existir e você tiver modificado sua definição, você precisará atualizar a tabela manualmente ou recriá-la."
   ]
  },
  {
   "cell_type": "code",
   "execution_count": 41,
   "metadata": {},
   "outputs": [
    {
     "name": "stdout",
     "output_type": "stream",
     "text": [
      "Tabela criada com sucesso!\n"
     ]
    }
   ],
   "source": [
    "# Criar todas as tabelas definidas\n",
    "Base.metadata.create_all(engine)\n",
    "\n",
    "print(\"Tabela criada com sucesso!\")\n",
    "\n",
    "#### dica extra: como recriar a tabela\n",
    "# Para recriar a tabela, garanta que ela seja primeiro excluída\n",
    "# Cliente.__table__.drop(engine, checkfirst=True)  # Exclui a tabela se ela existir\n",
    "# Base.metadata.create_all(engine)                # Cria a tabela\n"
   ]
  },
  {
   "cell_type": "markdown",
   "metadata": {},
   "source": [
    "#### Passo 3: Usar a nova tabela\n",
    "\n",
    "Podemos usar nossa nova tabela `cliente` usando o que já aprendemos nesta aula."
   ]
  },
  {
   "cell_type": "code",
   "execution_count": 44,
   "metadata": {},
   "outputs": [
    {
     "name": "stdout",
     "output_type": "stream",
     "text": [
      "João Silva, eid@emple.com, R$ 100.00\n",
      "gabi, gabi@email.com, R$ 100.00\n",
      "Arnaldo, arnaldo@email.com, R$ 100.00\n",
      "joaquinzinho, jojo@email.com, R$ 100.00\n"
     ]
    }
   ],
   "source": [
    "# Criar uma sessão\n",
    "Session = sessionmaker(bind=engine)\n",
    "session = Session()\n",
    "\n",
    "# Adicionar um novo cliente\n",
    "novo_cliente = Cliente(nome='gabi',\n",
    "                       email='gabi@email.com',\n",
    "                       saldo=100.0)\n",
    "session.add(novo_cliente)\n",
    "session.commit()\n",
    "\n",
    "# Consultar todos os clientes\n",
    "clientes = session.query(Cliente).all()\n",
    "for cliente in clientes:\n",
    "    print(f\"{cliente.nome}, {cliente.email}, R$ {cliente.saldo:.2f}\")\n",
    "    \n",
    "# Fechar sessão\n",
    "session.close()"
   ]
  },
  {
   "cell_type": "markdown",
   "metadata": {},
   "source": []
  }
 ],
 "metadata": {
  "kernelspec": {
   "display_name": "venv",
   "language": "python",
   "name": "python3"
  },
  "language_info": {
   "codemirror_mode": {
    "name": "ipython",
    "version": 3
   },
   "file_extension": ".py",
   "mimetype": "text/x-python",
   "name": "python",
   "nbconvert_exporter": "python",
   "pygments_lexer": "ipython3",
   "version": "3.12.3"
  }
 },
 "nbformat": 4,
 "nbformat_minor": 2
}
